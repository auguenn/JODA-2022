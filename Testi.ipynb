{
 "cells": [
  {
   "cell_type": "markdown",
   "id": "f97bb864",
   "metadata": {},
   "source": [
    "# Testitiedosto"
   ]
  },
  {
   "cell_type": "markdown",
   "id": "c0b18630",
   "metadata": {},
   "source": [
    "Tämä on tosi hieno testitiedosto :)"
   ]
  },
  {
   "cell_type": "code",
   "execution_count": 3,
   "id": "35513c4a",
   "metadata": {},
   "outputs": [
    {
     "name": "stdout",
     "output_type": "stream",
     "text": [
      "Hello world!\n"
     ]
    }
   ],
   "source": [
    "print(\"Hello world!\")"
   ]
  },
  {
   "cell_type": "code",
   "execution_count": 4,
   "id": "5c099c65",
   "metadata": {},
   "outputs": [
    {
     "name": "stdout",
     "output_type": "stream",
     "text": [
      ":)\n"
     ]
    }
   ],
   "source": [
    "print(\":)\")"
   ]
  },
  {
   "cell_type": "markdown",
   "id": "e5d48eec",
   "metadata": {},
   "source": [
    "Hyvin toimii :)"
   ]
  }
 ],
 "metadata": {
  "kernelspec": {
   "display_name": "Python 3 (ipykernel)",
   "language": "python",
   "name": "python3"
  },
  "language_info": {
   "codemirror_mode": {
    "name": "ipython",
    "version": 3
   },
   "file_extension": ".py",
   "mimetype": "text/x-python",
   "name": "python",
   "nbconvert_exporter": "python",
   "pygments_lexer": "ipython3",
   "version": "3.9.7"
  }
 },
 "nbformat": 4,
 "nbformat_minor": 5
}
