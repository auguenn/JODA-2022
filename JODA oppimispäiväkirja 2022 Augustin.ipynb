{
 "cells": [
  {
   "cell_type": "markdown",
   "id": "8027915c",
   "metadata": {},
   "source": [
    "# Johdanto datatieteeseen oppimispäiväkirja "
   ]
  },
  {
   "cell_type": "markdown",
   "id": "a29d07a2",
   "metadata": {},
   "source": [
    "                                                           "
   ]
  },
  {
   "cell_type": "markdown",
   "id": "5fb116bf",
   "metadata": {},
   "source": [
    "## Luentoviikko 1: Johdanto"
   ]
  },
  {
   "cell_type": "markdown",
   "id": "75c9d24f",
   "metadata": {},
   "source": [
    "Johdanto datatieteeseen -opintojakson oppimispäiväkirjan tarkoituksena on mahdollistaa opiskelijoille luentoviikoilla käsiteltyjen asioiden oma työstäminen ja tätä kautta syvällisempi ymmärtäminen sekä omaksuminen. Oppimispäiväkirja pohjautuu luentoihin, demosessioihin sekä niiden työkirjoihin. Lisäksi kuitenkin päiväkirjan eri osioissa hyödynnetään erinäisiä ulkopuolisia lähteitä, jotka ovat listattuna tiedoston lopussa. Opintojakso käsittelee nimensä mukaisesti datatiedettä ja siihen kuuluvia alueita kuten datan analysointia, visualisointia sekä ohjelmointia. Itseltäni ei löydy aiempaa kokemusta datatieteilystä, joten uskon opintojakson olevan erinomainen keino lähteä liikeelle aihealueen parissa. Kurssin lopuksi toivon ymmärtäväni paremmin mitä kaikkia aihealueita datatieteeseen sisältyy, kuinka nämä aihealueet suhtautuvat toisiinsa nähden sekä kuinka datatiede näkyy yritysten toiminnassa. Lisäksi toivon tietenkin kehittyväni ohjelmoinnin parissa. "
   ]
  },
  {
   "cell_type": "markdown",
   "id": "c2978e92",
   "metadata": {},
   "source": [
    "Ensimmäisellä luentoviikolla polkaistiin sekä luentojen että demosessioiden osalta opintojakso käyntiin. Kurssin alku oli minulle jännittävä, sillä kurssin ensimmäinen luento oli minulle ihka ensimmäinen liveluento yliopistourallani. Oloni ennen  luentoa oli kuin ensimmäisenä koulupäivänä ja vatsassakin tuntui perhosia. Luennolla istuminen tuntuikin niin kummalliselta, että itse opetukseen keskittyminen ei oikein onnistunut ja päädyin tätä oppimispäiväkirjan osiota kirjoittaessani turvautumaan myös luennon tallennuksiin. Demosessiolle en osallistunut paikan päällä vaan katsoin kyseisen oppimistilaisuuden tallenteen. "
   ]
  },
  {
   "cell_type": "markdown",
   "id": "8de913a1",
   "metadata": {},
   "source": [
    "Kyseisen viikon luennon painopiste oli opintojakson yleisten informaatioiden ja käytäntöjen läpikäynnissä, joiden jälkeen kuitenkin päästiin itse asiaan. Opintojaksolla liikutaan tietojohtamisen aihealueella ja datan saamisen sekä tutkimisen lisäksi pohditaan, kuinka datasta tuotetaan informaatiota, tietämystä ja tätä korkeampia tiedon tasoja kuten viisautta. Tämän toimenpiteen saavuttamiseksi tarvitaan ammattitaitoista datatieteilijää. Tähän ammattitaitoon liitetään yleisesti tilastolliset taidot, koneoppimisen hallinta, ohjelmointiosaaminen, visualisointitaidot sekä liiketoimintaosaaminen. Verrattuna 'datainsinööreihin' datatieteilijöiden pääpainopiste on uuden luomisessa ja improvisaatiossa kun taas insinöörien painopiste on standardoiduissa toimenpiteissä sekä tiedon jalostamisessa rutiininomaisesti. Datatieteessä siis luodaan uutta ja jalostetaan tietoa kysymällä kysymyksiä datalta rikkoen samalla koneiden ja ohjelmistojen asettamia rajoituksia. Näiden edellä esitettyjen tietojen valossa, itse näen datatietelijät luovina tekijöinä, jotka auttavat organisaatiossa sekä tiedon johtamisessa että tiedolla johtamisessa. Tämän takia uskon kyseisen opintojakson ja datatieteen osaamisen ylipäätään olevan erinomainen lisäase työmarkkinoilla. Datan jalostamisen pääpiirteet ovat minulle jo entuudestaan tuttuja esimerkiksi Tietojohtamisen perusteet -kurssilta ja liiketoimintatietämystä minulta löytyy esimerkiksi laskentatoimen kurssien sekä Liiketoimintatiedon hallinta -kurssin ansiosta. Näiden lisäksi myös ohjelmointitaitoja on hieman ehtinyt kertyä. "
   ]
  },
  {
   "cell_type": "markdown",
   "id": "769dff74",
   "metadata": {},
   "source": [
    "Luennolla esitettiin, kuinka datatieteeseen sisältyy osana tilastotiede sekä kuinka näissä kahdessa käyettävät ohejlmistot poikkeavat toisitaan Datatieteessä suosittuna ohjelmointikielenä toimii nykypäivänä Python ja se on kasvattanut suosiotaan tilastotieteessä käytettävän R-kielen ohi. Itse olen huomannut tämän suosion siinä, kuinka paljon kursseilla hyödynnetään Pythonia kun taas R-kielestä olen kuullut vain ohimennen joillakin matematiikan luennoilla. Lisäksi olen kuullut, että nykyisessä lukion opetussuunnitelmassa pakollisessa ohjelmointikurssissakin kielenä käytetään Pythonia. Näkisin tämän suosion kasvun johtuvan nimenomaan siitä, että nykypäivän organisaatioissa arvotetaan enenevissä määrin tietojohtamista, jolloin myös hyödynnettävältä datalta vaaditaan enemmän. Vaatimuksien täyttämiseksi tarvitaan ohjelmisto, joka taipuu tilastollisen laskemisen ja grafiikan tuottamisen lisäksi myös datan jalostamiseen sekä koneoppimiseen. Toimivan ohjelmiston lisäksi informaation ja tietämyksen saamisen varmistamiseksi tietenkin tarvitaan lahjakas datatieteilijä toteuttamaan datan jalostus. Luennolla esitettiin muutamia malleja datatieteestä, joille kaikille yhteistä oli liiketoiminnan ymmärrys ja osaaminen. Tämä on tärkeää, jotta datalta osataan kysyä oikeita kysymyksiä, jotka hyödyttävät organisaatiota ja auttavat sen toiminnan kehittämisessä. Näiden kysymysten löytämisessä näkisin tärkeänä myös School of data science Amsterdamin (2017) esittämät pehmeät taidot kuten intohimon ja aidon kiinnostuksen aihetta kohtaan sekä ongelmanratkaisukyvyn, sillä data ei itsessään osaa kertoa asioita ellei sitä ole tulkitsemassa ja siivoamassa datasta itsestään sekä organisaation liiketoiminnasta tietävä henkilö."
   ]
  },
  {
   "cell_type": "markdown",
   "id": "a2904737",
   "metadata": {},
   "source": [
    "Viikon demosessiossa lähdettiin liikkeelle aivan datatieteen alkeista sekä itse ohjelmistojen lataamisesta. Session aluksi esiteltiin Jupyterin avaaminen pip:iä hyödyntämällä, mutta tämä oli itselleni täysin hepreaa, joten päädyin lataamaan Anacondan ja avaamaan Jupyterin sen avulla. Jupyter itsessään on selkeä työalusta ja mahdollisten virheilmoitusten ratkaiseminen on helppoa. Tämän viikon demokoodissa paneuduin harjoittelemaan datan lukemista, sen tutkimista sekä hieman sen ominaisuuksien muokkaamista. Datana käytin Avoin datan (2018) tiedostoa väistötiloissa opiskelevista peruskoululaisista syyslukukaudella 2018. Kyseinen demo on esitetty alla."
   ]
  },
  {
   "cell_type": "markdown",
   "id": "09b32c9e",
   "metadata": {},
   "source": [
    "                                        "
   ]
  },
  {
   "cell_type": "code",
   "execution_count": 16,
   "id": "86f9364e",
   "metadata": {},
   "outputs": [
    {
     "data": {
      "text/html": [
       "<div>\n",
       "<style scoped>\n",
       "    .dataframe tbody tr th:only-of-type {\n",
       "        vertical-align: middle;\n",
       "    }\n",
       "\n",
       "    .dataframe tbody tr th {\n",
       "        vertical-align: top;\n",
       "    }\n",
       "\n",
       "    .dataframe thead th {\n",
       "        text-align: right;\n",
       "    }\n",
       "</style>\n",
       "<table border=\"1\" class=\"dataframe\">\n",
       "  <thead>\n",
       "    <tr style=\"text-align: right;\">\n",
       "      <th></th>\n",
       "      <th>Maakunta</th>\n",
       "      <th>Kunta</th>\n",
       "      <th>Koulu</th>\n",
       "      <th>Lisätietoja</th>\n",
       "      <th>Syy</th>\n",
       "    </tr>\n",
       "  </thead>\n",
       "  <tbody>\n",
       "    <tr>\n",
       "      <th>0</th>\n",
       "      <td>Etelä-Karjala</td>\n",
       "      <td>Imatra</td>\n",
       "      <td>Kosken koulukeskus</td>\n",
       "      <td>NaN</td>\n",
       "      <td>sisäilmaongelmat</td>\n",
       "    </tr>\n",
       "    <tr>\n",
       "      <th>1</th>\n",
       "      <td>Etelä-Karjala</td>\n",
       "      <td>Imatra</td>\n",
       "      <td>Mansikkalan koulukeskus</td>\n",
       "      <td>NaN</td>\n",
       "      <td>sisäilmaongelmat</td>\n",
       "    </tr>\n",
       "    <tr>\n",
       "      <th>2</th>\n",
       "      <td>Etelä-Karjala</td>\n",
       "      <td>Imatra</td>\n",
       "      <td>Vuoksenniskan koulukeskus</td>\n",
       "      <td>NaN</td>\n",
       "      <td>sisäilmaongelmat</td>\n",
       "    </tr>\n",
       "    <tr>\n",
       "      <th>3</th>\n",
       "      <td>Etelä-Karjala</td>\n",
       "      <td>Lappeenranta</td>\n",
       "      <td>Lauritsalan koulu</td>\n",
       "      <td>Luokat 1-2 sekä tekninen työ, kotitalous ja os...</td>\n",
       "      <td>Sisäilmaongelmat</td>\n",
       "    </tr>\n",
       "    <tr>\n",
       "      <th>4</th>\n",
       "      <td>Etelä-Karjala</td>\n",
       "      <td>Lappeenranta</td>\n",
       "      <td>Joutsenon koulu</td>\n",
       "      <td>3-6 –luokat</td>\n",
       "      <td>Sisäilmaongelmat</td>\n",
       "    </tr>\n",
       "    <tr>\n",
       "      <th>...</th>\n",
       "      <td>...</td>\n",
       "      <td>...</td>\n",
       "      <td>...</td>\n",
       "      <td>...</td>\n",
       "      <td>...</td>\n",
       "    </tr>\n",
       "    <tr>\n",
       "      <th>272</th>\n",
       "      <td>Varsinais-Suomi</td>\n",
       "      <td>Salo</td>\n",
       "      <td>NaN</td>\n",
       "      <td>Lisätietoja: 615 kokonaan väistötiloissaja 171...</td>\n",
       "      <td>NaN</td>\n",
       "    </tr>\n",
       "    <tr>\n",
       "      <th>273</th>\n",
       "      <td>Varsinais-Suomi</td>\n",
       "      <td>Sauvo</td>\n",
       "      <td>Sauvon koulukeskus</td>\n",
       "      <td>NaN</td>\n",
       "      <td>Alakoulurakennuksen sisäilmaongelmat</td>\n",
       "    </tr>\n",
       "    <tr>\n",
       "      <th>274</th>\n",
       "      <td>Varsinais-Suomi</td>\n",
       "      <td>Turku</td>\n",
       "      <td>Puolalan alakoulu</td>\n",
       "      <td>NaN</td>\n",
       "      <td>Rakennuksen elinkaareen liittyvä peruskorjaus</td>\n",
       "    </tr>\n",
       "    <tr>\n",
       "      <th>275</th>\n",
       "      <td>Varsinais-Suomi</td>\n",
       "      <td>Vehmaa</td>\n",
       "      <td>Kirkonkylän koulu</td>\n",
       "      <td>NaN</td>\n",
       "      <td>tilanpuute</td>\n",
       "    </tr>\n",
       "    <tr>\n",
       "      <th>276</th>\n",
       "      <td>Varsinais-Suomi</td>\n",
       "      <td>Vehmaa</td>\n",
       "      <td>Vinkkilän yläaste</td>\n",
       "      <td>NaN</td>\n",
       "      <td>Vanha koulurakennus vedettiin matalaksi, oppil...</td>\n",
       "    </tr>\n",
       "  </tbody>\n",
       "</table>\n",
       "<p>277 rows × 5 columns</p>\n",
       "</div>"
      ],
      "text/plain": [
       "            Maakunta         Kunta                      Koulu  \\\n",
       "0      Etelä-Karjala        Imatra         Kosken koulukeskus   \n",
       "1      Etelä-Karjala        Imatra    Mansikkalan koulukeskus   \n",
       "2      Etelä-Karjala        Imatra  Vuoksenniskan koulukeskus   \n",
       "3      Etelä-Karjala  Lappeenranta          Lauritsalan koulu   \n",
       "4      Etelä-Karjala  Lappeenranta            Joutsenon koulu   \n",
       "..               ...           ...                        ...   \n",
       "272  Varsinais-Suomi          Salo                        NaN   \n",
       "273  Varsinais-Suomi         Sauvo         Sauvon koulukeskus   \n",
       "274  Varsinais-Suomi         Turku          Puolalan alakoulu   \n",
       "275  Varsinais-Suomi        Vehmaa          Kirkonkylän koulu   \n",
       "276  Varsinais-Suomi        Vehmaa          Vinkkilän yläaste   \n",
       "\n",
       "                                           Lisätietoja  \\\n",
       "0                                                  NaN   \n",
       "1                                                  NaN   \n",
       "2                                                  NaN   \n",
       "3    Luokat 1-2 sekä tekninen työ, kotitalous ja os...   \n",
       "4                                          3-6 –luokat   \n",
       "..                                                 ...   \n",
       "272  Lisätietoja: 615 kokonaan väistötiloissaja 171...   \n",
       "273                                                NaN   \n",
       "274                                                NaN   \n",
       "275                                                NaN   \n",
       "276                                                NaN   \n",
       "\n",
       "                                                   Syy  \n",
       "0                                     sisäilmaongelmat  \n",
       "1                                     sisäilmaongelmat  \n",
       "2                                     sisäilmaongelmat  \n",
       "3                                     Sisäilmaongelmat  \n",
       "4                                     Sisäilmaongelmat  \n",
       "..                                                 ...  \n",
       "272                                                NaN  \n",
       "273               Alakoulurakennuksen sisäilmaongelmat  \n",
       "274      Rakennuksen elinkaareen liittyvä peruskorjaus  \n",
       "275                                         tilanpuute  \n",
       "276  Vanha koulurakennus vedettiin matalaksi, oppil...  \n",
       "\n",
       "[277 rows x 5 columns]"
      ]
     },
     "execution_count": 16,
     "metadata": {},
     "output_type": "execute_result"
    }
   ],
   "source": [
    "# Tuodaan käytettävät kirjastot\n",
    "import pandas as pd\n",
    "\n",
    "# Määritetään datan osoite ja luetaan se pandasia käyttäen\n",
    "url = 'http://www.avoindata.fi/data/dataset/637162ba-75f0-4d0a-81cd-4a21c17e44bd/resource/11e1d4b7-6a06-4c8a-a504-6ccede3a786d/download/ilmoitetut_koulut_ja_syytiedot.csv'\n",
    "orig_df = pd.read_csv(url)\n",
    "\n",
    "# Tulostetaan dataframe\n",
    "orig_df"
   ]
  },
  {
   "cell_type": "code",
   "execution_count": 17,
   "id": "88650e89",
   "metadata": {},
   "outputs": [
    {
     "name": "stdout",
     "output_type": "stream",
     "text": [
      "Sarakkeet: ['Maakunta' 'Kunta' 'Koulu' 'Lisätietoja' 'Syy']\n"
     ]
    }
   ],
   "source": [
    "# Tulostetaan sarakkeiden nimet\n",
    "print('Sarakkeet:', orig_df.columns.values)"
   ]
  },
  {
   "cell_type": "code",
   "execution_count": 18,
   "id": "bfff8639",
   "metadata": {},
   "outputs": [
    {
     "name": "stdout",
     "output_type": "stream",
     "text": [
      "Maakunta       object\n",
      "Kunta          object\n",
      "Koulu          object\n",
      "Lisätietoja    object\n",
      "Syy            object\n",
      "dtype: object\n"
     ]
    }
   ],
   "source": [
    "# Tulostetaan datatyypit\n",
    "print(orig_df.dtypes)"
   ]
  },
  {
   "cell_type": "code",
   "execution_count": 19,
   "id": "47c7f556",
   "metadata": {},
   "outputs": [],
   "source": [
    "# Treenataan funktion luomista\n",
    "def caps(x):\n",
    "    return x.upper()\n",
    "\n",
    "# Muutetaan erään taulun sarakkeen kirjoitustyyli funktiota hyödyntäen\n",
    "orig_df['Maakunta'] = orig_df['Maakunta'].apply(caps)"
   ]
  },
  {
   "cell_type": "code",
   "execution_count": 20,
   "id": "3fb815b6",
   "metadata": {
    "scrolled": true
   },
   "outputs": [
    {
     "data": {
      "text/html": [
       "<div>\n",
       "<style scoped>\n",
       "    .dataframe tbody tr th:only-of-type {\n",
       "        vertical-align: middle;\n",
       "    }\n",
       "\n",
       "    .dataframe tbody tr th {\n",
       "        vertical-align: top;\n",
       "    }\n",
       "\n",
       "    .dataframe thead th {\n",
       "        text-align: right;\n",
       "    }\n",
       "</style>\n",
       "<table border=\"1\" class=\"dataframe\">\n",
       "  <thead>\n",
       "    <tr style=\"text-align: right;\">\n",
       "      <th></th>\n",
       "      <th>Maakunta</th>\n",
       "      <th>Kunta</th>\n",
       "      <th>Koulu</th>\n",
       "      <th>Lisätietoja</th>\n",
       "      <th>Syy</th>\n",
       "    </tr>\n",
       "  </thead>\n",
       "  <tbody>\n",
       "    <tr>\n",
       "      <th>0</th>\n",
       "      <td>ETELÄ-KARJALA</td>\n",
       "      <td>Imatra</td>\n",
       "      <td>Kosken koulukeskus</td>\n",
       "      <td>NaN</td>\n",
       "      <td>sisäilmaongelmat</td>\n",
       "    </tr>\n",
       "    <tr>\n",
       "      <th>1</th>\n",
       "      <td>ETELÄ-KARJALA</td>\n",
       "      <td>Imatra</td>\n",
       "      <td>Mansikkalan koulukeskus</td>\n",
       "      <td>NaN</td>\n",
       "      <td>sisäilmaongelmat</td>\n",
       "    </tr>\n",
       "    <tr>\n",
       "      <th>2</th>\n",
       "      <td>ETELÄ-KARJALA</td>\n",
       "      <td>Imatra</td>\n",
       "      <td>Vuoksenniskan koulukeskus</td>\n",
       "      <td>NaN</td>\n",
       "      <td>sisäilmaongelmat</td>\n",
       "    </tr>\n",
       "    <tr>\n",
       "      <th>3</th>\n",
       "      <td>ETELÄ-KARJALA</td>\n",
       "      <td>Lappeenranta</td>\n",
       "      <td>Lauritsalan koulu</td>\n",
       "      <td>Luokat 1-2 sekä tekninen työ, kotitalous ja os...</td>\n",
       "      <td>Sisäilmaongelmat</td>\n",
       "    </tr>\n",
       "    <tr>\n",
       "      <th>4</th>\n",
       "      <td>ETELÄ-KARJALA</td>\n",
       "      <td>Lappeenranta</td>\n",
       "      <td>Joutsenon koulu</td>\n",
       "      <td>3-6 –luokat</td>\n",
       "      <td>Sisäilmaongelmat</td>\n",
       "    </tr>\n",
       "    <tr>\n",
       "      <th>...</th>\n",
       "      <td>...</td>\n",
       "      <td>...</td>\n",
       "      <td>...</td>\n",
       "      <td>...</td>\n",
       "      <td>...</td>\n",
       "    </tr>\n",
       "    <tr>\n",
       "      <th>272</th>\n",
       "      <td>VARSINAIS-SUOMI</td>\n",
       "      <td>Salo</td>\n",
       "      <td>NaN</td>\n",
       "      <td>Lisätietoja: 615 kokonaan väistötiloissaja 171...</td>\n",
       "      <td>NaN</td>\n",
       "    </tr>\n",
       "    <tr>\n",
       "      <th>273</th>\n",
       "      <td>VARSINAIS-SUOMI</td>\n",
       "      <td>Sauvo</td>\n",
       "      <td>Sauvon koulukeskus</td>\n",
       "      <td>NaN</td>\n",
       "      <td>Alakoulurakennuksen sisäilmaongelmat</td>\n",
       "    </tr>\n",
       "    <tr>\n",
       "      <th>274</th>\n",
       "      <td>VARSINAIS-SUOMI</td>\n",
       "      <td>Turku</td>\n",
       "      <td>Puolalan alakoulu</td>\n",
       "      <td>NaN</td>\n",
       "      <td>Rakennuksen elinkaareen liittyvä peruskorjaus</td>\n",
       "    </tr>\n",
       "    <tr>\n",
       "      <th>275</th>\n",
       "      <td>VARSINAIS-SUOMI</td>\n",
       "      <td>Vehmaa</td>\n",
       "      <td>Kirkonkylän koulu</td>\n",
       "      <td>NaN</td>\n",
       "      <td>tilanpuute</td>\n",
       "    </tr>\n",
       "    <tr>\n",
       "      <th>276</th>\n",
       "      <td>VARSINAIS-SUOMI</td>\n",
       "      <td>Vehmaa</td>\n",
       "      <td>Vinkkilän yläaste</td>\n",
       "      <td>NaN</td>\n",
       "      <td>Vanha koulurakennus vedettiin matalaksi, oppil...</td>\n",
       "    </tr>\n",
       "  </tbody>\n",
       "</table>\n",
       "<p>277 rows × 5 columns</p>\n",
       "</div>"
      ],
      "text/plain": [
       "            Maakunta         Kunta                      Koulu  \\\n",
       "0      ETELÄ-KARJALA        Imatra         Kosken koulukeskus   \n",
       "1      ETELÄ-KARJALA        Imatra    Mansikkalan koulukeskus   \n",
       "2      ETELÄ-KARJALA        Imatra  Vuoksenniskan koulukeskus   \n",
       "3      ETELÄ-KARJALA  Lappeenranta          Lauritsalan koulu   \n",
       "4      ETELÄ-KARJALA  Lappeenranta            Joutsenon koulu   \n",
       "..               ...           ...                        ...   \n",
       "272  VARSINAIS-SUOMI          Salo                        NaN   \n",
       "273  VARSINAIS-SUOMI         Sauvo         Sauvon koulukeskus   \n",
       "274  VARSINAIS-SUOMI         Turku          Puolalan alakoulu   \n",
       "275  VARSINAIS-SUOMI        Vehmaa          Kirkonkylän koulu   \n",
       "276  VARSINAIS-SUOMI        Vehmaa          Vinkkilän yläaste   \n",
       "\n",
       "                                           Lisätietoja  \\\n",
       "0                                                  NaN   \n",
       "1                                                  NaN   \n",
       "2                                                  NaN   \n",
       "3    Luokat 1-2 sekä tekninen työ, kotitalous ja os...   \n",
       "4                                          3-6 –luokat   \n",
       "..                                                 ...   \n",
       "272  Lisätietoja: 615 kokonaan väistötiloissaja 171...   \n",
       "273                                                NaN   \n",
       "274                                                NaN   \n",
       "275                                                NaN   \n",
       "276                                                NaN   \n",
       "\n",
       "                                                   Syy  \n",
       "0                                     sisäilmaongelmat  \n",
       "1                                     sisäilmaongelmat  \n",
       "2                                     sisäilmaongelmat  \n",
       "3                                     Sisäilmaongelmat  \n",
       "4                                     Sisäilmaongelmat  \n",
       "..                                                 ...  \n",
       "272                                                NaN  \n",
       "273               Alakoulurakennuksen sisäilmaongelmat  \n",
       "274      Rakennuksen elinkaareen liittyvä peruskorjaus  \n",
       "275                                         tilanpuute  \n",
       "276  Vanha koulurakennus vedettiin matalaksi, oppil...  \n",
       "\n",
       "[277 rows x 5 columns]"
      ]
     },
     "execution_count": 20,
     "metadata": {},
     "output_type": "execute_result"
    }
   ],
   "source": [
    "# Tulostetaan päivitetty dataframe ja huomataan muutokset\n",
    "orig_df"
   ]
  },
  {
   "cell_type": "markdown",
   "id": "ae8fb4fe",
   "metadata": {},
   "source": [
    "                                                                  "
   ]
  },
  {
   "cell_type": "markdown",
   "id": "4e2e5ffd",
   "metadata": {},
   "source": [
    "Näen esittämäni koodin kuvastavan viikolla oppimaani, sillä datatieteilijälle erittäin olennainen taito on datan tuominen ohjelmistoon ja sen tutkiminen ohjelmiston ominaisuuksia hyödyntämällä."
   ]
  },
  {
   "cell_type": "markdown",
   "id": "ddeee8c8",
   "metadata": {},
   "source": [
    "Tämän viikon luennon tärkein anti oli tiedot kurssin käytännöistä, sillä ilman niitä voisi suorittaminen olla hieman haastavaa. Itse aihealueesta opin datatieteen eri aihealueet sekä sen, millaisia osaamisia ammattitaitoiselta datatieteilijältä odotetaan. Lisäksi opin eron datatieteilijän ja datainsinöörin toimintatavoissa, joiden olin aiemmin luullut tarkoittavan käytännössä samaa asiaa. Viidentenä asiana opin, kuinka csv-muotoista dataa luetaan ja, kuinka sitä voidaan yksinkertaisin menetelmin tutkia Pythonilla. Kehitysvinkkinä luentoviikolle suosittelisin luennoitsijaa perehtymään luennon tallentamiseen kyseisen toteutuksen luentosalissa etukäteen, jotta sekä naamakamera että taulun kuva saataisiin nauhalle heti alusta asti. Tämä helpottaisi luennon seuraamista kotoa käsin. Toisaalta luennoitsijan esiintymisote oli miellyttävä ja opetusta oli helppo seurata."
   ]
  },
  {
   "cell_type": "markdown",
   "id": "cf78935f",
   "metadata": {},
   "source": [
    "                                        "
   ]
  },
  {
   "cell_type": "markdown",
   "id": "7cfce8b0",
   "metadata": {},
   "source": [
    "## Luentoviikko 2: Datan kerääminen ja jalostaminen"
   ]
  },
  {
   "cell_type": "markdown",
   "id": "b316828e",
   "metadata": {},
   "source": [
    "Toinen luentoviikko käsitteli datan keräämistä ja sen jalostamista. Itse luennolla olin kyllä paikalla, mutta kahden vuoden etäopiskelun jäljiltä on kesittymiskykyni kuin kultakalalla ja jouduin jälleen oppimispäiväkirjan kirjoittamisessa turvautumaan luennon tallenteeseen. Demosessiolle en osallistunut vaan katsoin tapahtuman tallenteen."
   ]
  },
  {
   "cell_type": "markdown",
   "id": "e667f32f",
   "metadata": {},
   "source": [
    "Datatiedeprosessi lähtee CRISP-DM-mallin mukaisesti liikkeelle liiketoimintakysymyksestä tai organisaation toimintaan liittyvästä kysymyksestä. Tämä siis poikkeaa kurssin käsittelyjärjestyksestä, jonka mukaan prosessi käynnistyisi datan keräämisellä, minkä jälkeen vasta pohdittaisiin mitä kyseiseltä datalta halutaan kysyä. Verrattaessa tätä kurssilla suoritettavaan harjoitustyöhön, näkisin CRISP-DM-mallin mukaisen lähestymistavan olevan oman työn suorittamisessa ideaalimpi, mutta koska en vielä omaa oikeastaan yhtään kokemusta kyseisen tyyppisestä työstä, luulen joutuvani pohtimaan tutkimuskysymystä vasta dataan tutustumisen jälkeen. Tällöin harjoitustyön suoritusjärjestys vastaa enemmänkin kurssin luentojen läpikäyntijärjestystä."
   ]
  },
  {
   "cell_type": "markdown",
   "id": "1568b64f",
   "metadata": {},
   "source": [
    "Datan keräämisessä dataa hankitaan ostamalla, lataamalla tai keräämällä joko organisaation sisältä tai ulkoisista lähteistä. Luennoitsija esitti luennolla väitteen, ettei varsinaista raakadataa oikeasti edes ole olemassa, sillä datan kerääjä vie dataan aina omaa maailmankuvaa ja keräämisprosessissa henkilöiden välisen yhteistyön ja jalostumisen kautta datan tuoma merkitys muokkaantuu. Luentoviikon 1 aiheeseen peilaten näkisin tämän väitteen osaltaan liittyvän datatietelijän liiketoimintaosaamiseen ja sen ymmärtämiseen, sillä uskoisin organisaatioiden haluavan kerätä vain sellaista dataa, joka on heille hyödyllistä. Tällöin organisaation liiketoiminnallisia tavotteita ymmärtävä datatieteilijä osaa jo alussa kerätä vain sellaista dataa, jolla saavutetaan jonkin tason arvoa eikä tällöin data ole missään vaiheessa 'raakaa'."
   ]
  },
  {
   "cell_type": "markdown",
   "id": "cf18b278",
   "metadata": {},
   "source": [
    "Eräitä keinoja datan keräämiselle ovat niin sanotut raapijat ja ryömijät, joiden avulla dataa voidaan kerätä esimerkiksi joltakin tietyltä nettisivustolta. Nämä ovat hyödyllisiä työkaluja, sillä niiden avulla voidaan kerätä lähes millaista dataa tahansa. Datatieteessä kuitenkin voidaan hyödyntää mitä tahansa dataa. Täytyy kuitenkin muistaa, ettei dataa välttämättä tarvitse olla paljoa, jotta se olisi hyödyllistä vaan usein hyödyn näkökulmasta laatu ja täsmällisyys ajavat määrän yli. Jälleen näkisin tähän voivan liittää edellä mainitsemani organisaatioiden tavoitteiden ja kerätyn datan yhteensopivuuden merkityksen, sillä datan kerääminen ja käsittely vie organisaatiolta aina resursseja, jolloin organisaation toiminnan kannalta turhan datan jalostamiseen kuluisi resursseja turhaan."
   ]
  },
  {
   "cell_type": "markdown",
   "id": "010edcc6",
   "metadata": {},
   "source": [
    "Internetin hakukoneet toimivat raapijoina ja ryömijöinä. Esimerkiksi Googlen tulee jollakin tavalla selvittää, mistä eri nettisivut löytyvät ja tähän tarkoitukseen sen hakurobotin täytyy raapia Internetin ihmeellistä maailmaa. Vaikka tästä ylivaltijas Googlen ryömimisestä voisi saada kuvan, että lähes kaikkea voidaan raapia, ei tämä kuitenkaan ole totta vaan joillakin sivustoilla kuten esimerkiksi Facebookilla tai Instagramilla on sivuston koodiin kirjattuna ryöminnän estot. Ryömijän luomisessa on siis aina pidettävä mielessä, että kohtelias ryömijä ei ryömi sellaisia asioita jota se ei saa ryömiä. Tähän ryöminnän sallittavuuteen vaikuttavat sekä laillisuus että etiikka. Luennolla esitettiin myös ryömityn datan hyödyntäminen tutkimuksessa ja, kuinka raavinnalta kielletyillä sivustoilla dataa ei saa hyödyntää edes tutkimuksessa. Tämä herätti pohtimaan, olisiko tällaisen sivuston raavinta kuitenkin mahdollista sivustonhaltijan luvalla, jos tutkimuksessa saatavat tulokset mahdollisesti hyödyttäisivät tutkijan lisäksi myös haltijaa itseään?"
   ]
  },
  {
   "cell_type": "markdown",
   "id": "1da6cf7d",
   "metadata": {},
   "source": [
    "Datan keräämisen jälkeen täytyy dataa analysoida. Tähän on olemassa useampia erilaisia analyysityyppejä. Luentomateriaaleissa esitetyt tyypit ovat kuvaileva, diagnosoiva, ennakoiva sekä ohjaava analytiikka. Ennakoivassa analytiikassa pohditaan, mitä todennäköisesti on tapahtumassa. Tällainen pohdittava asia voi esimerkiksi olla mahdollinen poistuva asiakas, jolloin tämä poistuminen voidaan yrittää estää ennalta. Ohjailevassa analytiikassa pyritään aktiivisesti ohjaamaan esimerkiksi asiakkaan toimintaa. Diagnosoivassa analytiikassa pohditaan miksi jokin asia tapahtui tai esimerkiksi koneoppimisen kautta saadusta ennusteesta pyritään pohtia, miksi ennusteen mukainen asia tulee mahdollisesti tapahtumaan. Kuvailevassa analytiikassa sen sijaan pohditaan mitä tapahtui. Luennoitsija itse mielellään käyttää eri analytiikoissa jakoa eksploratiivinen, deskriptiivinen, prediktiivinen, preskriptiivinen sekä ohjaileva. Kaikissa eri analytiikkamalleissa tarvitaan dataa. Näkisin itse analytiikan olevan lähes tärkeämpi osa data-analyysia datan keräämisen laadun sijasta, sillä laadukkaalla analyysilla ja eri analytiikkatyyppejä yhdistelemällä voidaan datasta löytää yllättäviäkin informaatioita organisaation toiminnasta."
   ]
  },
  {
   "cell_type": "markdown",
   "id": "31ba59f3",
   "metadata": {},
   "source": [
    "Luentoviikon ja demosession sisältöjen painottuessa datan keräämiseen raapijoiden ja ryömijöiden avulla, päätin itsekkin hieman kokeilla sellaisen alun rakentamista. Alla olevassa demokoodissa esittelen, kuinka raapijan rakentaminen alustetaan ja kuinka tiedot haetaan halutulta nettisivustolta. Varsinaista raapijan koodiosiota en demoon alkanut väsäämään."
   ]
  },
  {
   "cell_type": "markdown",
   "id": "c9a0dfc2",
   "metadata": {},
   "source": [
    "                                     "
   ]
  },
  {
   "cell_type": "code",
   "execution_count": 22,
   "id": "c96d1dbe",
   "metadata": {},
   "outputs": [
    {
     "name": "stdout",
     "output_type": "stream",
     "text": [
      "Collecting scrapy\n",
      "  Downloading Scrapy-2.6.1-py2.py3-none-any.whl (264 kB)\n",
      "Requirement already satisfied: pyOpenSSL>=16.2.0 in c:\\users\\augus\\anaconda3\\lib\\site-packages (from scrapy) (21.0.0)\n",
      "Collecting protego>=0.1.15\n",
      "  Downloading Protego-0.2.1-py2.py3-none-any.whl (8.2 kB)\n",
      "Collecting itemloaders>=1.0.1\n",
      "  Downloading itemloaders-1.0.4-py3-none-any.whl (11 kB)\n",
      "Collecting service-identity>=16.0.0\n",
      "  Downloading service_identity-21.1.0-py2.py3-none-any.whl (12 kB)\n",
      "Requirement already satisfied: cryptography>=2.0 in c:\\users\\augus\\anaconda3\\lib\\site-packages (from scrapy) (3.4.8)\n",
      "Collecting parsel>=1.5.0\n",
      "  Downloading parsel-1.6.0-py2.py3-none-any.whl (13 kB)\n",
      "Collecting queuelib>=1.4.2\n",
      "  Downloading queuelib-1.6.2-py2.py3-none-any.whl (13 kB)\n",
      "Requirement already satisfied: setuptools in c:\\users\\augus\\anaconda3\\lib\\site-packages (from scrapy) (58.0.4)\n",
      "Collecting PyDispatcher>=2.0.5\n",
      "  Downloading PyDispatcher-2.0.5.zip (47 kB)\n",
      "Collecting w3lib>=1.17.0\n",
      "  Downloading w3lib-1.22.0-py2.py3-none-any.whl (20 kB)\n",
      "Collecting tldextract\n",
      "  Downloading tldextract-3.3.0-py3-none-any.whl (93 kB)\n",
      "Collecting cssselect>=0.9.1\n",
      "  Downloading cssselect-1.1.0-py2.py3-none-any.whl (16 kB)\n",
      "Requirement already satisfied: lxml>=3.5.0 in c:\\users\\augus\\anaconda3\\lib\\site-packages (from scrapy) (4.6.3)\n",
      "Collecting Twisted>=17.9.0\n",
      "  Downloading Twisted-22.4.0-py3-none-any.whl (3.1 MB)\n",
      "Collecting itemadapter>=0.1.0\n",
      "  Downloading itemadapter-0.5.0-py3-none-any.whl (10 kB)\n",
      "Requirement already satisfied: zope.interface>=4.1.3 in c:\\users\\augus\\anaconda3\\lib\\site-packages (from scrapy) (5.4.0)\n",
      "Requirement already satisfied: cffi>=1.12 in c:\\users\\augus\\anaconda3\\lib\\site-packages (from cryptography>=2.0->scrapy) (1.14.6)\n",
      "Requirement already satisfied: pycparser in c:\\users\\augus\\anaconda3\\lib\\site-packages (from cffi>=1.12->cryptography>=2.0->scrapy) (2.20)\n",
      "Collecting jmespath>=0.9.5\n",
      "  Downloading jmespath-1.0.0-py3-none-any.whl (23 kB)\n",
      "Requirement already satisfied: six>=1.6.0 in c:\\users\\augus\\anaconda3\\lib\\site-packages (from parsel>=1.5.0->scrapy) (1.16.0)\n",
      "Collecting pyasn1-modules\n",
      "  Downloading pyasn1_modules-0.2.8-py2.py3-none-any.whl (155 kB)\n",
      "Requirement already satisfied: attrs>=19.1.0 in c:\\users\\augus\\anaconda3\\lib\\site-packages (from service-identity>=16.0.0->scrapy) (21.2.0)\n",
      "Collecting pyasn1\n",
      "  Downloading pyasn1-0.4.8-py2.py3-none-any.whl (77 kB)\n",
      "Requirement already satisfied: typing-extensions>=3.6.5 in c:\\users\\augus\\anaconda3\\lib\\site-packages (from Twisted>=17.9.0->scrapy) (3.10.0.2)\n",
      "Collecting hyperlink>=17.1.1\n",
      "  Downloading hyperlink-21.0.0-py2.py3-none-any.whl (74 kB)\n",
      "Collecting constantly>=15.1\n",
      "  Downloading constantly-15.1.0-py2.py3-none-any.whl (7.9 kB)\n",
      "Collecting incremental>=21.3.0\n",
      "  Downloading incremental-21.3.0-py2.py3-none-any.whl (15 kB)\n",
      "Collecting Automat>=0.8.0\n",
      "  Downloading Automat-20.2.0-py2.py3-none-any.whl (31 kB)\n",
      "Collecting twisted-iocpsupport<2,>=1.0.2\n",
      "  Downloading twisted_iocpsupport-1.0.2-cp39-cp39-win_amd64.whl (45 kB)\n",
      "Requirement already satisfied: idna>=2.5 in c:\\users\\augus\\anaconda3\\lib\\site-packages (from hyperlink>=17.1.1->Twisted>=17.9.0->scrapy) (3.2)\n",
      "Requirement already satisfied: requests>=2.1.0 in c:\\users\\augus\\anaconda3\\lib\\site-packages (from tldextract->scrapy) (2.26.0)\n",
      "Collecting requests-file>=1.4\n",
      "  Downloading requests_file-1.5.1-py2.py3-none-any.whl (3.7 kB)\n",
      "Requirement already satisfied: filelock>=3.0.8 in c:\\users\\augus\\anaconda3\\lib\\site-packages (from tldextract->scrapy) (3.3.1)\n",
      "Requirement already satisfied: certifi>=2017.4.17 in c:\\users\\augus\\anaconda3\\lib\\site-packages (from requests>=2.1.0->tldextract->scrapy) (2021.10.8)\n",
      "Requirement already satisfied: urllib3<1.27,>=1.21.1 in c:\\users\\augus\\anaconda3\\lib\\site-packages (from requests>=2.1.0->tldextract->scrapy) (1.26.7)\n",
      "Requirement already satisfied: charset-normalizer~=2.0.0 in c:\\users\\augus\\anaconda3\\lib\\site-packages (from requests>=2.1.0->tldextract->scrapy) (2.0.4)\n",
      "Building wheels for collected packages: PyDispatcher\n",
      "  Building wheel for PyDispatcher (setup.py): started\n",
      "  Building wheel for PyDispatcher (setup.py): finished with status 'done'\n",
      "  Created wheel for PyDispatcher: filename=PyDispatcher-2.0.5-py3-none-any.whl size=12559 sha256=50fdefee3c59817936c416df6c49e4221bc442ff93f26acb5c1ce55a666c3739\n",
      "  Stored in directory: c:\\users\\augus\\appdata\\local\\pip\\cache\\wheels\\a5\\de\\8a\\4b52190a95d99c042ec6bd5ad2de3a3c1b5ce71d69f0bbd036\n",
      "Successfully built PyDispatcher\n",
      "Installing collected packages: w3lib, pyasn1, cssselect, twisted-iocpsupport, requests-file, pyasn1-modules, parsel, jmespath, itemadapter, incremental, hyperlink, constantly, Automat, Twisted, tldextract, service-identity, queuelib, PyDispatcher, protego, itemloaders, scrapy\n",
      "Successfully installed Automat-20.2.0 PyDispatcher-2.0.5 Twisted-22.4.0 constantly-15.1.0 cssselect-1.1.0 hyperlink-21.0.0 incremental-21.3.0 itemadapter-0.5.0 itemloaders-1.0.4 jmespath-1.0.0 parsel-1.6.0 protego-0.2.1 pyasn1-0.4.8 pyasn1-modules-0.2.8 queuelib-1.6.2 requests-file-1.5.1 scrapy-2.6.1 service-identity-21.1.0 tldextract-3.3.0 twisted-iocpsupport-1.0.2 w3lib-1.22.0\n"
     ]
    }
   ],
   "source": [
    "# Asennetaan scrapy\n",
    "!pip install scrapy"
   ]
  },
  {
   "cell_type": "code",
   "execution_count": 27,
   "id": "459979b6",
   "metadata": {},
   "outputs": [
    {
     "name": "stdout",
     "output_type": "stream",
     "text": [
      "Created spider 'gigantti_scraper' using template 'basic' \n"
     ]
    }
   ],
   "source": [
    "# Luodaan scrapyn avulla automaattisesti raapijaa varten tarvittavan koodin rungon\n",
    "!scrapy genspider gigantti_scraper gigantti.fi"
   ]
  },
  {
   "cell_type": "code",
   "execution_count": 33,
   "id": "dfa316d7",
   "metadata": {},
   "outputs": [],
   "source": [
    "# Luodaan uusi python-script, gigantti_scraper.py-tiedosto. Tämän jälkeen tulisi varsinainen koodi, \n",
    "# mutta demon pituuden puitteissa en alkanut esittää sitä nyt.\n",
    "import scrapy\n",
    "class GiganttiScraperSpider(scrapy.Spider):\n",
    "    name = 'gigantti_scraper'\n",
    "    allowed_domains = ['gigantti.fi']\n",
    "    # Tuotteen arvostelujen url-osoite\n",
    "    start_urls = ['https://www.gigantti.fi/product/kodin-pienkoneet/grillit/kaasugrillit/weber-genesis-ii-e310-kaasugrilli-61010169-musta/17523#reviews']"
   ]
  },
  {
   "cell_type": "code",
   "execution_count": 35,
   "id": "81c6175c",
   "metadata": {},
   "outputs": [],
   "source": [
    "# Kutsutaan scriptiä (päiväkirjan siisteyden vuoksi en aja tätä)\n",
    "!scrapy runspider gigantti_scraper.py -o out.json"
   ]
  },
  {
   "cell_type": "markdown",
   "id": "9c5e4ef2",
   "metadata": {},
   "source": [
    "                                    "
   ]
  },
  {
   "cell_type": "markdown",
   "id": "6d6c4596",
   "metadata": {},
   "source": [
    "Luentoviikon keskeisimmät opit olivat raapijoihin liittyvät tiedot siitä, mitä ne käytännössä ovat ja, kuinka niitä voidaan luoda. Tämä raapijoiden rakentaminen kuitenkin vaatii vielä harjoitusta, jotta sellaisen luominen kulkisi sujuvasti. Kolmanneksi opin, että internetin raapimista rajoitetaan aktiivisesti sekä itse sivustojen että lainsäädännön puolesta. Neljäntenä opin lisää Pythonin datatyypeistä, minkä uskon olevan hyödyllistä tietoa harjoitustyön suorittamisen kannalta. Viimeiseksi mieleen jäi, kuinka datan jalostaminen vaatii aina resursseja, jolloin keräämistä ja sen tärkeyttä tulee harkita organisaatioissa. Kehitysvinkkinä luentoviikolle esittäisin raapijan rakentamisen rautalankamallin esittämistä, sillä luento- ja demomateriaaleissa esitetyt esimerkit jäivät ainakin itselle vielä hieman epäselviksi."
   ]
  },
  {
   "cell_type": "markdown",
   "id": "26295af0",
   "metadata": {},
   "source": [
    "                                            "
   ]
  },
  {
   "cell_type": "markdown",
   "id": "db6e7979",
   "metadata": {},
   "source": [
    "## Luentoviikko 3: Koneoppimisen perusteet "
   ]
  },
  {
   "cell_type": "markdown",
   "id": "554ca32d",
   "metadata": {},
   "source": [
    "Opintojakson kolmannella luentoviikolla sukellettiin koneoppimisen kiehtovaan maailmaan. Jälleen kerran olin liveluennolla paikalla, mutta oppimispäiväkirjaa kirjoittaessani päädyin hyödyntämään tallennetta muistin virkistämiseksi. Demosessiosta katsoin jälleen pelkän tallenteen."
   ]
  },
  {
   "cell_type": "markdown",
   "id": "c507d693",
   "metadata": {},
   "source": [
    "Datatieteessä koneoppimisella voidaan opettaa jokin algoritmi ennustamaan datasta jotakin asioita datan piirteisiin perustuen jonkin muuttujan suhteen. Piirteiden erottamsiella tarkoitetaan sellaisen joukon muuttujia erottamista aineistosta, joiden ajatellaan ennustavan ennustettavaa muuttujaa. Muita syitä piirteiden erottamiselle ovat esimerkiksi tutkittavan tietomäärän vähentäminen, piirteiden määrän pienentäminen, suorituskyvyn parantaminen sekä tietojen kuvaileminen tai visualisointi. Itse näkisin näistä omille aloittelen datatieteilijän taidoille olennaisimmaksi syyksi tietomäärän vähentämisen, sillä luulen pienemmän datamäärän käsittelyn olevan yksinkertaisempaa. Löydetyistä piirteistä muodostuu piirrematriisi, jonka avulla voidaan toteuttaa koneoppimismalli. "
   ]
  },
  {
   "cell_type": "markdown",
   "id": "7f7b29a1",
   "metadata": {},
   "source": [
    "Koneoppiminen voidaan jaotella erilaisiin tyyppeihin, joita ovat ohjattu oppiminen, ohjaamaton oppiminen, vahvistettu oppiminen sekä syväoppiminen. Itselle näiden tyyppien konkreettiset erot jäivät hieman epäselviksi, mutta uskon niiden selkeytyvän vielä tulevilla luentokerroilla. Ainakin ohjatun oppimisen uskon tulevan tutuksi harjoitustyön parissa, sillä harjoitustyössä mahdollisesti tulen tekemään lineaarisen regression, joka on luennoitsijan mukaan yksinkertainen ohjatun oppimisen menetelmä. Tutkimuskysymykseen sopivan mallin valitseminen voi tapahtua joko kokeilemalla tai puhtaasti analyysin toteuttajan kokemuksen ja ammattitaidon avulla. Koneoppimisen avulla datatieteessä voidaan myös jalostaa dataa lisäämällä siihen piirteitä. Sopivan mallin löydyttyä voidaan datapakettiin lisätä uutta tietoa, jonka lopputulos voidaan koneoppimisen avulla ennustaa. Toisaalta koneoppiminen ei jokaisessa kysymyksessä ole paras mahdollinen vaihtoehto vaan ongelmissa joissa tavoitteena on ymmärtää ja kuvailla aineistoa, on hyödyllisempää käyttää tilastollisia menetelmiä."
   ]
  },
  {
   "cell_type": "markdown",
   "id": "eabe77f3",
   "metadata": {},
   "source": [
    "Koneoppimiseen liittyy aina myös virheen mahdollisuus, jota voidaan pienentää jalostamalla piirteitä paremmin ja yhdistelemällä niitä siten, että saadaan suhdelukuja. Tästä inspiroituneena päädyin viikon demokoodissani harjoittelemaan hieman piirteiden erottelua sekä tunnuslukujen laskemista. Demossa datana toimii Avoin datan (2022a) tiedosto Kelan etuuksien saajista ja maksetuista etuuksista. Koodi on esitettynä alla. "
   ]
  },
  {
   "cell_type": "markdown",
   "id": "34ff6190",
   "metadata": {},
   "source": [
    "                           "
   ]
  },
  {
   "cell_type": "code",
   "execution_count": 41,
   "id": "4dc357bf",
   "metadata": {},
   "outputs": [
    {
     "data": {
      "text/html": [
       "<div>\n",
       "<style scoped>\n",
       "    .dataframe tbody tr th:only-of-type {\n",
       "        vertical-align: middle;\n",
       "    }\n",
       "\n",
       "    .dataframe tbody tr th {\n",
       "        vertical-align: top;\n",
       "    }\n",
       "\n",
       "    .dataframe thead th {\n",
       "        text-align: right;\n",
       "    }\n",
       "</style>\n",
       "<table border=\"1\" class=\"dataframe\">\n",
       "  <thead>\n",
       "    <tr style=\"text-align: right;\">\n",
       "      <th></th>\n",
       "      <th>aikatyyppi</th>\n",
       "      <th>kuukausi_nro</th>\n",
       "      <th>vuosikuukausi</th>\n",
       "      <th>vuosi</th>\n",
       "      <th>kunta_nro</th>\n",
       "      <th>kunta_nimi</th>\n",
       "      <th>etuus</th>\n",
       "      <th>saaja_lkm</th>\n",
       "      <th>saaja_laskenta_lkm</th>\n",
       "      <th>maksettu_eur</th>\n",
       "      <th>maksettu_laskenta_eur</th>\n",
       "    </tr>\n",
       "  </thead>\n",
       "  <tbody>\n",
       "    <tr>\n",
       "      <th>0</th>\n",
       "      <td>Kuukausi</td>\n",
       "      <td>12</td>\n",
       "      <td>202112</td>\n",
       "      <td>2021</td>\n",
       "      <td>992</td>\n",
       "      <td>Äänekoski</td>\n",
       "      <td>Sairauspäivärahat                             ...</td>\n",
       "      <td>265</td>\n",
       "      <td>265</td>\n",
       "      <td>358317.49</td>\n",
       "      <td>358317.49</td>\n",
       "    </tr>\n",
       "    <tr>\n",
       "      <th>1</th>\n",
       "      <td>Kuukausi</td>\n",
       "      <td>12</td>\n",
       "      <td>202112</td>\n",
       "      <td>2021</td>\n",
       "      <td>989</td>\n",
       "      <td>Ähtäri</td>\n",
       "      <td>Sairauspäivärahat                             ...</td>\n",
       "      <td>77</td>\n",
       "      <td>77</td>\n",
       "      <td>112212.75</td>\n",
       "      <td>112212.75</td>\n",
       "    </tr>\n",
       "    <tr>\n",
       "      <th>2</th>\n",
       "      <td>Kuukausi</td>\n",
       "      <td>12</td>\n",
       "      <td>202112</td>\n",
       "      <td>2021</td>\n",
       "      <td>981</td>\n",
       "      <td>Ypäjä</td>\n",
       "      <td>Sairauspäivärahat                             ...</td>\n",
       "      <td>32</td>\n",
       "      <td>32</td>\n",
       "      <td>41243.29</td>\n",
       "      <td>41243.29</td>\n",
       "    </tr>\n",
       "    <tr>\n",
       "      <th>3</th>\n",
       "      <td>Kuukausi</td>\n",
       "      <td>12</td>\n",
       "      <td>202112</td>\n",
       "      <td>2021</td>\n",
       "      <td>980</td>\n",
       "      <td>Ylöjärvi</td>\n",
       "      <td>Sairauspäivärahat                             ...</td>\n",
       "      <td>524</td>\n",
       "      <td>524</td>\n",
       "      <td>676408.54</td>\n",
       "      <td>676408.54</td>\n",
       "    </tr>\n",
       "    <tr>\n",
       "      <th>4</th>\n",
       "      <td>Kuukausi</td>\n",
       "      <td>12</td>\n",
       "      <td>202112</td>\n",
       "      <td>2021</td>\n",
       "      <td>977</td>\n",
       "      <td>Ylivieska</td>\n",
       "      <td>Sairauspäivärahat                             ...</td>\n",
       "      <td>259</td>\n",
       "      <td>259</td>\n",
       "      <td>289969.52</td>\n",
       "      <td>289969.52</td>\n",
       "    </tr>\n",
       "  </tbody>\n",
       "</table>\n",
       "</div>"
      ],
      "text/plain": [
       "  aikatyyppi  kuukausi_nro  vuosikuukausi  vuosi  kunta_nro kunta_nimi  \\\n",
       "0   Kuukausi            12         202112   2021        992  Äänekoski   \n",
       "1   Kuukausi            12         202112   2021        989     Ähtäri   \n",
       "2   Kuukausi            12         202112   2021        981      Ypäjä   \n",
       "3   Kuukausi            12         202112   2021        980   Ylöjärvi   \n",
       "4   Kuukausi            12         202112   2021        977  Ylivieska   \n",
       "\n",
       "                                               etuus  saaja_lkm  \\\n",
       "0  Sairauspäivärahat                             ...        265   \n",
       "1  Sairauspäivärahat                             ...         77   \n",
       "2  Sairauspäivärahat                             ...         32   \n",
       "3  Sairauspäivärahat                             ...        524   \n",
       "4  Sairauspäivärahat                             ...        259   \n",
       "\n",
       "   saaja_laskenta_lkm  maksettu_eur  maksettu_laskenta_eur  \n",
       "0                 265     358317.49              358317.49  \n",
       "1                  77     112212.75              112212.75  \n",
       "2                  32      41243.29               41243.29  \n",
       "3                 524     676408.54              676408.54  \n",
       "4                 259     289969.52              289969.52  "
      ]
     },
     "execution_count": 41,
     "metadata": {},
     "output_type": "execute_result"
    }
   ],
   "source": [
    "# Määritetään url-osoite ja luetaan tiedosto\n",
    "url1 = 'http://www.avoindata.fi/data/dataset/9af378a3-c235-491d-95fb-7226786250d0/resource/a3be1d46-1c33-4a59-84d4-66a348b1551c/download/data.csv'\n",
    "df1 = pd.read_csv(url1)\n",
    "\n",
    "# Tulostetaan dataframen tiedot\n",
    "df1.head()"
   ]
  },
  {
   "cell_type": "code",
   "execution_count": 42,
   "id": "d15f0cdc",
   "metadata": {},
   "outputs": [
    {
     "data": {
      "text/html": [
       "<div>\n",
       "<style scoped>\n",
       "    .dataframe tbody tr th:only-of-type {\n",
       "        vertical-align: middle;\n",
       "    }\n",
       "\n",
       "    .dataframe tbody tr th {\n",
       "        vertical-align: top;\n",
       "    }\n",
       "\n",
       "    .dataframe thead th {\n",
       "        text-align: right;\n",
       "    }\n",
       "</style>\n",
       "<table border=\"1\" class=\"dataframe\">\n",
       "  <thead>\n",
       "    <tr style=\"text-align: right;\">\n",
       "      <th></th>\n",
       "      <th>kuukausi_nro</th>\n",
       "      <th>vuosi</th>\n",
       "      <th>saaja_lkm</th>\n",
       "      <th>saaja_laskenta_lkm</th>\n",
       "      <th>maksettu_eur</th>\n",
       "      <th>maksettu_laskenta_eur</th>\n",
       "    </tr>\n",
       "  </thead>\n",
       "  <tbody>\n",
       "    <tr>\n",
       "      <th>0</th>\n",
       "      <td>12</td>\n",
       "      <td>2021</td>\n",
       "      <td>265</td>\n",
       "      <td>265</td>\n",
       "      <td>358317.49</td>\n",
       "      <td>358317.49</td>\n",
       "    </tr>\n",
       "    <tr>\n",
       "      <th>1</th>\n",
       "      <td>12</td>\n",
       "      <td>2021</td>\n",
       "      <td>77</td>\n",
       "      <td>77</td>\n",
       "      <td>112212.75</td>\n",
       "      <td>112212.75</td>\n",
       "    </tr>\n",
       "    <tr>\n",
       "      <th>2</th>\n",
       "      <td>12</td>\n",
       "      <td>2021</td>\n",
       "      <td>32</td>\n",
       "      <td>32</td>\n",
       "      <td>41243.29</td>\n",
       "      <td>41243.29</td>\n",
       "    </tr>\n",
       "    <tr>\n",
       "      <th>3</th>\n",
       "      <td>12</td>\n",
       "      <td>2021</td>\n",
       "      <td>524</td>\n",
       "      <td>524</td>\n",
       "      <td>676408.54</td>\n",
       "      <td>676408.54</td>\n",
       "    </tr>\n",
       "    <tr>\n",
       "      <th>4</th>\n",
       "      <td>12</td>\n",
       "      <td>2021</td>\n",
       "      <td>259</td>\n",
       "      <td>259</td>\n",
       "      <td>289969.52</td>\n",
       "      <td>289969.52</td>\n",
       "    </tr>\n",
       "    <tr>\n",
       "      <th>...</th>\n",
       "      <td>...</td>\n",
       "      <td>...</td>\n",
       "      <td>...</td>\n",
       "      <td>...</td>\n",
       "      <td>...</td>\n",
       "      <td>...</td>\n",
       "    </tr>\n",
       "    <tr>\n",
       "      <th>386366</th>\n",
       "      <td>8</td>\n",
       "      <td>2020</td>\n",
       "      <td>6013</td>\n",
       "      <td>6013</td>\n",
       "      <td>1039670.27</td>\n",
       "      <td>924524.92</td>\n",
       "    </tr>\n",
       "    <tr>\n",
       "      <th>386367</th>\n",
       "      <td>8</td>\n",
       "      <td>2020</td>\n",
       "      <td>11</td>\n",
       "      <td>11</td>\n",
       "      <td>1632.79</td>\n",
       "      <td>1632.79</td>\n",
       "    </tr>\n",
       "    <tr>\n",
       "      <th>386368</th>\n",
       "      <td>8</td>\n",
       "      <td>2020</td>\n",
       "      <td>142</td>\n",
       "      <td>142</td>\n",
       "      <td>23983.42</td>\n",
       "      <td>19177.22</td>\n",
       "    </tr>\n",
       "    <tr>\n",
       "      <th>386369</th>\n",
       "      <td>8</td>\n",
       "      <td>2020</td>\n",
       "      <td>702</td>\n",
       "      <td>702</td>\n",
       "      <td>132471.05</td>\n",
       "      <td>125879.55</td>\n",
       "    </tr>\n",
       "    <tr>\n",
       "      <th>386370</th>\n",
       "      <td>8</td>\n",
       "      <td>2020</td>\n",
       "      <td>333</td>\n",
       "      <td>333</td>\n",
       "      <td>67442.69</td>\n",
       "      <td>58606.00</td>\n",
       "    </tr>\n",
       "  </tbody>\n",
       "</table>\n",
       "<p>386371 rows × 6 columns</p>\n",
       "</div>"
      ],
      "text/plain": [
       "        kuukausi_nro  vuosi  saaja_lkm  saaja_laskenta_lkm  maksettu_eur  \\\n",
       "0                 12   2021        265                 265     358317.49   \n",
       "1                 12   2021         77                  77     112212.75   \n",
       "2                 12   2021         32                  32      41243.29   \n",
       "3                 12   2021        524                 524     676408.54   \n",
       "4                 12   2021        259                 259     289969.52   \n",
       "...              ...    ...        ...                 ...           ...   \n",
       "386366             8   2020       6013                6013    1039670.27   \n",
       "386367             8   2020         11                  11       1632.79   \n",
       "386368             8   2020        142                 142      23983.42   \n",
       "386369             8   2020        702                 702     132471.05   \n",
       "386370             8   2020        333                 333      67442.69   \n",
       "\n",
       "        maksettu_laskenta_eur  \n",
       "0                   358317.49  \n",
       "1                   112212.75  \n",
       "2                    41243.29  \n",
       "3                   676408.54  \n",
       "4                   289969.52  \n",
       "...                       ...  \n",
       "386366              924524.92  \n",
       "386367                1632.79  \n",
       "386368               19177.22  \n",
       "386369              125879.55  \n",
       "386370               58606.00  \n",
       "\n",
       "[386371 rows x 6 columns]"
      ]
     },
     "execution_count": 42,
     "metadata": {},
     "output_type": "execute_result"
    }
   ],
   "source": [
    "# Poistetaan dataframesta joitakin sarakkeita\n",
    "poistetaan = ['aikatyyppi', 'vuosikuukausi','kunta_nro','kunta_nimi','etuus']\n",
    "data = df1.drop(poistetaan, axis=1)\n",
    "data"
   ]
  },
  {
   "cell_type": "code",
   "execution_count": 44,
   "id": "7fe6e50d",
   "metadata": {},
   "outputs": [
    {
     "data": {
      "text/html": [
       "<div>\n",
       "<style scoped>\n",
       "    .dataframe tbody tr th:only-of-type {\n",
       "        vertical-align: middle;\n",
       "    }\n",
       "\n",
       "    .dataframe tbody tr th {\n",
       "        vertical-align: top;\n",
       "    }\n",
       "\n",
       "    .dataframe thead th {\n",
       "        text-align: right;\n",
       "    }\n",
       "</style>\n",
       "<table border=\"1\" class=\"dataframe\">\n",
       "  <thead>\n",
       "    <tr style=\"text-align: right;\">\n",
       "      <th></th>\n",
       "      <th>kuukausi_nro</th>\n",
       "      <th>vuosi</th>\n",
       "      <th>saaja_lkm</th>\n",
       "      <th>saaja_laskenta_lkm</th>\n",
       "      <th>maksettu_eur</th>\n",
       "      <th>maksettu_laskenta_eur</th>\n",
       "    </tr>\n",
       "  </thead>\n",
       "  <tbody>\n",
       "    <tr>\n",
       "      <th>count</th>\n",
       "      <td>386371.000000</td>\n",
       "      <td>386371.000000</td>\n",
       "      <td>386371.000000</td>\n",
       "      <td>386371.000000</td>\n",
       "      <td>3.863710e+05</td>\n",
       "      <td>3.863710e+05</td>\n",
       "    </tr>\n",
       "    <tr>\n",
       "      <th>mean</th>\n",
       "      <td>7.640467</td>\n",
       "      <td>2018.379449</td>\n",
       "      <td>858.911608</td>\n",
       "      <td>857.075109</td>\n",
       "      <td>6.466933e+05</td>\n",
       "      <td>5.300912e+05</td>\n",
       "    </tr>\n",
       "    <tr>\n",
       "      <th>std</th>\n",
       "      <td>3.942363</td>\n",
       "      <td>3.197596</td>\n",
       "      <td>5260.888888</td>\n",
       "      <td>5259.352953</td>\n",
       "      <td>4.169558e+06</td>\n",
       "      <td>4.031208e+06</td>\n",
       "    </tr>\n",
       "    <tr>\n",
       "      <th>min</th>\n",
       "      <td>1.000000</td>\n",
       "      <td>2008.000000</td>\n",
       "      <td>0.000000</td>\n",
       "      <td>0.000000</td>\n",
       "      <td>-4.008502e+07</td>\n",
       "      <td>-1.677261e+04</td>\n",
       "    </tr>\n",
       "    <tr>\n",
       "      <th>25%</th>\n",
       "      <td>4.000000</td>\n",
       "      <td>2018.000000</td>\n",
       "      <td>21.000000</td>\n",
       "      <td>20.000000</td>\n",
       "      <td>1.475699e+04</td>\n",
       "      <td>1.017322e+04</td>\n",
       "    </tr>\n",
       "    <tr>\n",
       "      <th>50%</th>\n",
       "      <td>8.000000</td>\n",
       "      <td>2019.000000</td>\n",
       "      <td>92.000000</td>\n",
       "      <td>91.000000</td>\n",
       "      <td>5.679755e+04</td>\n",
       "      <td>4.252746e+04</td>\n",
       "    </tr>\n",
       "    <tr>\n",
       "      <th>75%</th>\n",
       "      <td>12.000000</td>\n",
       "      <td>2020.000000</td>\n",
       "      <td>375.000000</td>\n",
       "      <td>373.000000</td>\n",
       "      <td>2.459739e+05</td>\n",
       "      <td>1.861402e+05</td>\n",
       "    </tr>\n",
       "    <tr>\n",
       "      <th>max</th>\n",
       "      <td>12.000000</td>\n",
       "      <td>2022.000000</td>\n",
       "      <td>472150.000000</td>\n",
       "      <td>472150.000000</td>\n",
       "      <td>3.519918e+08</td>\n",
       "      <td>3.469420e+08</td>\n",
       "    </tr>\n",
       "  </tbody>\n",
       "</table>\n",
       "</div>"
      ],
      "text/plain": [
       "        kuukausi_nro          vuosi      saaja_lkm  saaja_laskenta_lkm  \\\n",
       "count  386371.000000  386371.000000  386371.000000       386371.000000   \n",
       "mean        7.640467    2018.379449     858.911608          857.075109   \n",
       "std         3.942363       3.197596    5260.888888         5259.352953   \n",
       "min         1.000000    2008.000000       0.000000            0.000000   \n",
       "25%         4.000000    2018.000000      21.000000           20.000000   \n",
       "50%         8.000000    2019.000000      92.000000           91.000000   \n",
       "75%        12.000000    2020.000000     375.000000          373.000000   \n",
       "max        12.000000    2022.000000  472150.000000       472150.000000   \n",
       "\n",
       "       maksettu_eur  maksettu_laskenta_eur  \n",
       "count  3.863710e+05           3.863710e+05  \n",
       "mean   6.466933e+05           5.300912e+05  \n",
       "std    4.169558e+06           4.031208e+06  \n",
       "min   -4.008502e+07          -1.677261e+04  \n",
       "25%    1.475699e+04           1.017322e+04  \n",
       "50%    5.679755e+04           4.252746e+04  \n",
       "75%    2.459739e+05           1.861402e+05  \n",
       "max    3.519918e+08           3.469420e+08  "
      ]
     },
     "execution_count": 44,
     "metadata": {},
     "output_type": "execute_result"
    }
   ],
   "source": [
    "# Kuvaillaan dataa\n",
    "data.describe()"
   ]
  },
  {
   "cell_type": "code",
   "execution_count": 49,
   "id": "08c544b2",
   "metadata": {},
   "outputs": [
    {
     "name": "stdout",
     "output_type": "stream",
     "text": [
      "keskiarvo:\n",
      "kuukausi_nro                  7.640467\n",
      "vuosi                      2018.379449\n",
      "saaja_lkm                   858.911608\n",
      "saaja_laskenta_lkm          857.075109\n",
      "maksettu_eur             646693.285870\n",
      "maksettu_laskenta_eur    530091.225687\n",
      "dtype: float64\n",
      "\n",
      "keskihajonta:\n",
      "kuukausi_nro             3.942358e+00\n",
      "vuosi                    3.197592e+00\n",
      "saaja_lkm                5.260882e+03\n",
      "saaja_laskenta_lkm       5.259346e+03\n",
      "maksettu_eur             4.169553e+06\n",
      "maksettu_laskenta_eur    4.031203e+06\n",
      "dtype: float64\n",
      "\n",
      "normalisoitu:\n",
      "        kuukausi_nro     vuosi  saaja_lkm  saaja_laskenta_lkm  maksettu_eur  \\\n",
      "0           1.105818  0.819539  -0.112892           -0.112576     -0.069162   \n",
      "1           1.105818  0.819539  -0.148627           -0.148322     -0.128187   \n",
      "2           1.105818  0.819539  -0.157181           -0.156878     -0.145207   \n",
      "3           1.105818  0.819539  -0.063661           -0.063330      0.007127   \n",
      "4           1.105818  0.819539  -0.114033           -0.113717     -0.085554   \n",
      "...              ...       ...        ...                 ...           ...   \n",
      "386366      0.091197  0.506804   0.979700            0.980336      0.094249   \n",
      "386367      0.091197  0.506804  -0.161173           -0.160871     -0.154707   \n",
      "386368      0.091197  0.506804  -0.136272           -0.135963     -0.149347   \n",
      "386369      0.091197  0.506804  -0.029826           -0.029486     -0.123328   \n",
      "386370      0.091197  0.506804  -0.099966           -0.099646     -0.138924   \n",
      "\n",
      "        maksettu_laskenta_eur  \n",
      "0                   -0.042611  \n",
      "1                   -0.103661  \n",
      "2                   -0.121266  \n",
      "3                    0.036296  \n",
      "4                   -0.059566  \n",
      "...                       ...  \n",
      "386366               0.097845  \n",
      "386367              -0.131092  \n",
      "386368              -0.126740  \n",
      "386369              -0.100271  \n",
      "386370              -0.116959  \n",
      "\n",
      "[386371 rows x 6 columns]\n"
     ]
    }
   ],
   "source": [
    "# Lasketaan joitakin kuvailuun liittyviä arvoja 'käsin' ja tulostetaan arvot\n",
    "keskiarvo = np.mean(data, axis=0)\n",
    "keskihajonta = np.std(data, axis=0)\n",
    "normalisoitu = (data - keskiarvo) / keskihajonta\n",
    "print('keskiarvo:')\n",
    "print(keskiarvo)\n",
    "print()\n",
    "print('keskihajonta:')\n",
    "print(keskihajonta)\n",
    "print()\n",
    "print('normalisoitu:')\n",
    "print(normalisoitu)"
   ]
  },
  {
   "cell_type": "markdown",
   "id": "fbe68459",
   "metadata": {},
   "source": [
    "                                                        "
   ]
  },
  {
   "cell_type": "markdown",
   "id": "0f242371",
   "metadata": {},
   "source": [
    "Tällä luentoviikolla opin, mitä mitä koneoppiminen datatieteessä on, mitä eroa koneoppimisella ja tekoälyllä on, mitä piirteillä ja niiden erottamisella tarkoitetaan datatieteessä sekä mitä eri syitä piirteiden erottamiselle on. Lisäksi koodidemoa kasatessani opin uusia komentoja datan käsittelyyn. Vinkkinä luennoitsijalle olisi, että luennon rakenteen voisi pyrkiä rakentamaan hieman selkeämmäksi, sillä ainakin itselläni oli ajoittain haasteita pysyä aiheessa mukana. Lisäksi esimerkkikoodien läpikäynnin voisi säästää kooditorioon."
   ]
  },
  {
   "cell_type": "markdown",
   "id": "0f5c95a6",
   "metadata": {},
   "source": [
    "                                                   "
   ]
  },
  {
   "cell_type": "markdown",
   "id": "7c1a701e",
   "metadata": {},
   "source": [
    "## Luentoviikko 4: Harjoitustyöhön syventyminen "
   ]
  },
  {
   "cell_type": "markdown",
   "id": "5d893bfe",
   "metadata": {},
   "source": [
    "Neljännellä luentoviikolla paneuduttiin syvemmälle kurssilla suoritettavaan harjoitustyöhön ja lähdettiin pohtimaan, kuinka työ käytännössä kannattaisi suorittaa ja mitä siinä kannattaisi tutkia. Vaikka liveluennolta olikin tarjolla porkkanapiste, en saanut itseäni raahattua kampukselle, joten päiväkirjan kirjoittamiselle pohjan antoi luentotallenne sekä sen materiaalit. Demosessiosta katsoin pelkän tallenteen."
   ]
  },
  {
   "cell_type": "markdown",
   "id": "98f56423",
   "metadata": {},
   "source": [
    "Harjoitustyön suorittamisessa tulee lähteä liikkeelle käytettävän prosessin valinnasta. Luentomateriaaleissa esitetään, kuinka harjoitustyössä, kuten kaikissa datatiedeprojekteissa, tulisi lähteä liikkeelle liiketoimintakysymyksestä ja vasta tämän jälkeen kerätä data, jalostaa sitä ja analysoida sen piirteitä esimerkiksi koneoppimisen avulla. Tätä mallia edustavat jo aiemmilla luentokerroilla esille tullut CRISP-DM-malli sekä niin sanottu mahdollisuus-kanvaasi. Tästä luennoitsijan pienestä painostuksesta huolimatta itse kuitenkin uskon edelleen tekeväni työn luentojen mukaisella järjetyksellä ja miettiä tutkimuskysymystä vasta työn edetessä ja datan ollessa jo olemassa. "
   ]
  },
  {
   "cell_type": "markdown",
   "id": "bed33c3e",
   "metadata": {},
   "source": [
    "Luennolla porkkanapisteiden edellytyksenä oli osallistuminen pienryhmäkeskusteluihin, joissa pohdittiin itse AirBnB:n toimintaan liittyviä kysymyksiä sekä myös harjoitustyön suorittamiseen liittyviä kysymyksiä kuten esimerkiksi sitä, millaisia asioita tutkittavasta datasta voitaisiin mahdollisesti selvittää. Näistä mahdollisista tutkimuskysymyksistä selkeimmin esiin nousivat eri alueille mahdollisesti kuuluvat vaatimukset mukavuuksiin liittyen sekä asiakkaiden segmentointiin liittyvät kysymykset. Itse ajattelen keskittyväni työssä johonkin yksinkertaiseen numeeriseen dataan, jottei datan jalostamiseen ja muokkaamiseen tuhlaannu kovasti aikaa."
   ]
  },
  {
   "cell_type": "markdown",
   "id": "5399bcc3",
   "metadata": {},
   "source": [
    "Oppimistilaisuudessa pohdittiin tutkimusongelmaa myös yleistä tasoa laajemmin hyödyntäen edellä mainittua mahdollisuus-kanvaasia. Siinä pohdittiin ongelman lisäksi esimerkiksi sen asiakkaita, käyttäjiä, mahdollisia ratkaisuja sekä lyhyen ja pitkän aikavälin tarpeita. Itse näen esimerkiksi projektissa erilaisten mahdollisten asiakassegmenttien olevan itse yritys, hostit sekä asukkaat, joista jokainen voi hyötyä datasta ja sen tutkimiseta hieman eri tavoin. Esimerkiksi yritys voi hyötyä asuntojen hintakehityksestä kertovasta analyysistä, hostit erilaisia mukavuuksia analysoivasta projektista ja asiakkaat taas eri asuinalueista ja niiden palveluista kertovasta datasta. Projektini mahdollinen asiakaskunta on näillä tiedoilla todennäköisesti hostit, sillä näen tämän antavan suurimmat mahdollisuudet datan analysointiin. "
   ]
  },
  {
   "cell_type": "markdown",
   "id": "843a5a7d",
   "metadata": {},
   "source": [
    "Tämän viikon koodidemossa halusin keskittyä asiaan, josta voisin hyötyä harjoitustyötä tehdessä. Eräs harjoitustyössä toteutettava ominaisuus on koneoppimismalli, joista yksinkertaisin vaihtoehto on lineaarinen regressio. Tätä aihetta käsiteltiin myös viikon demosessiossa. Alla olevassa koodissa tutkin Avoin datan (2022b) dataa Kelan maksetuista takuueläkkeistä ja luon lineaarisen regression kuukauden vaikutuksesta maksettuihin etuuksiin."
   ]
  },
  {
   "cell_type": "markdown",
   "id": "67083ab8",
   "metadata": {},
   "source": [
    "                                     "
   ]
  },
  {
   "cell_type": "code",
   "execution_count": 37,
   "id": "e5859fc6",
   "metadata": {},
   "outputs": [
    {
     "name": "stdout",
     "output_type": "stream",
     "text": [
      "<class 'pandas.core.frame.DataFrame'>\n",
      "RangeIndex: 295393 entries, 0 to 295392\n",
      "Data columns (total 10 columns):\n",
      " #   Column         Non-Null Count   Dtype  \n",
      "---  ------         --------------   -----  \n",
      " 0   aikatyyppi     295393 non-null  object \n",
      " 1   kuukausi_nro   295393 non-null  int64  \n",
      " 2   vuosikuukausi  295393 non-null  int64  \n",
      " 3   vuosi          295393 non-null  int64  \n",
      " 4   kunta_nro      295393 non-null  int64  \n",
      " 5   kunta_nimi     295393 non-null  object \n",
      " 6   ikaryhma       295393 non-null  object \n",
      " 7   sukupuoli      295393 non-null  object \n",
      " 8   tuenperuste    295393 non-null  object \n",
      " 9   maksettu_eur   295393 non-null  float64\n",
      "dtypes: float64(1), int64(4), object(5)\n",
      "memory usage: 22.5+ MB\n",
      "None\n"
     ]
    }
   ],
   "source": [
    "# Määritetään halutun datan url-osoite ja luetaan se pandasilla\n",
    "url2 = 'http://www.avoindata.fi/data/dataset/17cd6586-550b-4994-8b0d-806b2b0a3b59/resource/bc9a6486-3f0c-40cc-8016-8b7e803075b8/download/data.csv'\n",
    "df2 = pd.read_csv(url2)\n",
    "\n",
    "# Tulostetaan sarakkeiden nimet ja niiden tietotyypit\n",
    "print(df2.info())"
   ]
  },
  {
   "cell_type": "code",
   "execution_count": 74,
   "id": "d59d9200",
   "metadata": {},
   "outputs": [
    {
     "data": {
      "text/plain": [
       "Text(0, 0.5, 'maksettu_eur')"
      ]
     },
     "execution_count": 74,
     "metadata": {},
     "output_type": "execute_result"
    },
    {
     "data": {
      "image/png": "[encoded data removed]",
      "text/plain": [
       "<Figure size 432x288 with 1 Axes>"
      ]
     },
     "metadata": {
      "needs_background": "light"
     },
     "output_type": "display_data"
    }
   ],
   "source": [
    "# Määritetään käytettäviä kirjastoja\n",
    "import numpy as np\n",
    "import matplotlib.pyplot as plt\n",
    "from sklearn import linear_model\n",
    "\n",
    "# Luodaan lineaarinen regressio\n",
    "linear_regression = linear_model.LinearRegression()\n",
    "x = df2['kuukausi_nro'].values[:, np.newaxis]\n",
    "y = df2['maksettu_eur']\n",
    "\n",
    "classifier = linear_regression.fit(x,y)\n",
    "\n",
    "plt.scatter(x,y, color='pink')\n",
    "plt.plot(x, classifier.predict(x), color='black')\n",
    "plt.title('Kuukauden vaikutus maksettuihin etuuksiin')\n",
    "plt.xlabel('kuukausi_nro')\n",
    "plt.ylabel('maksettu_eur')"
   ]
  },
  {
   "cell_type": "markdown",
   "id": "b6b2adfd",
   "metadata": {},
   "source": [
    "                                    "
   ]
  },
  {
   "cell_type": "markdown",
   "id": "7002f771",
   "metadata": {},
   "source": [
    "Yllä olevasta kuvaajasta nähdään, kuinka etuuksia maksetaan muina kuukausina tasaisemmin, mutta joulukuussa maksujen suuruudessa tapahtuu jostakin syystä piikki. Lineaarinen regressio sen sijaan on vaakasuora, hoten tutkittavat muuttujat eivät ole vaikutuksessa toisiinsa."
   ]
  },
  {
   "cell_type": "markdown",
   "id": "1a0c3a8e",
   "metadata": {},
   "source": [
    "Tällä viikolla opittujen asioiden kirjaaminen oli luennon luonteesta johtuen hiukan haastavaa. Tästä huolimatta opin kuitenkin paremmin, kuinka lineaarinen regressio tehdään, minkä uskon hyödyttävän minua harjoitustyön tekemisessä. Lisäksi luennon ansiosta harjoitustyön tarkoitus on päässäni selkeämpi kuin ennen ja oppimistilaisuudessa pohditut kysymykset pakottivat hieman miettimään oman työn aloittamista sekä sen mahdollista tutkimuskysymystä. Kyseistä luentoviikkoa voisi mielestäni parantaa siten, että luento korvattaisiin työpajan tyyppisellä ratkaisulla, jossa jokainen voisi konkreettisesti saada omaa työtään eteenpäin tai edes alulle. Toinen parannusehdotus olisi se, että ennen oppimistilaisuutta jokainen voisi pohtia AirBnB:n artikkeliin liittyviä kysymyksiä, jolloin nämä vastaukset voitaisiin käydä oppimistilaisuuden aluksi läpi ja loppuaika voitaisiin pyhittää konkreettisesti itse harjoitustyölle."
   ]
  },
  {
   "cell_type": "markdown",
   "id": "062db10a",
   "metadata": {},
   "source": [
    "                                                "
   ]
  },
  {
   "cell_type": "markdown",
   "id": "a40d1337",
   "metadata": {},
   "source": [
    "## Luentoviikko 5 : Vierailuluento luonnollisen kielen analyysistä"
   ]
  },
  {
   "cell_type": "markdown",
   "id": "510bbf76",
   "metadata": {},
   "source": [
    "Viidennellä luentoviikolla me opiskelijat saimme iloksemme vierailevan luennoitsijan, kun Futuricen datainsinööri Teemu Mikkonen piti informatiivisen luennon luonnollisen kielen analyysistä. Olin itsekkin virtuaaliluennolla paikalla, mutta näppäränä tyttönä unohdin muistiinpanojen tekemisen, joten tämä oppimispäiväkirjan luku perustuu pääasiassa viime vuoden tallenteeseen. Demosessiosta katsoin vain tallenteen."
   ]
  },
  {
   "cell_type": "markdown",
   "id": "274c8bcf",
   "metadata": {},
   "source": [
    "Vuoden aikana Mikkonen oli onnistunut vaihtamaan Futuricelle Solitalta, joten viime vuoden luento käsitteli analyysiä Solitan näkövinkkelistä. Solita on vuonna 1996 Hervannassa perustettu yritys, joka toimii konsultoinnin, palvelumuotoilun, ohjelmistokehityksen, analytiikan, pilvipalveluiden sekä integraation parissa Suomessa, Ruotsissa, Tanskassa, Virossa, Belgiassa sekä Saksassa. Yritys on tunnettu muun muassa Koronavilkku- ja Omaolo-sovelluksista. Mikkonen itse on kotoisin Tampereelta ja on tietojohtamisen alumni. Hän aloitti opintonsa Tampereen teknillisessä yliopistossa vuonna 2014 ja valmistui Diplomi-insinööriksi Tampereen yliopistosta vuonna 2020. Datan parissa hän on työskennellyt CGI:llä, Solitalla ja nyt vuonna 2022 Futuricella. Mikkosen diplomityö liittyi nimenomaan luonnollisen kielen analyysiin."
   ]
  },
  {
   "cell_type": "markdown",
   "id": "d388d51c",
   "metadata": {},
   "source": [
    "Luonnollisen kielen analyysi ei ollut minulle entuudestaan tuttua, joten luennon seuraaminen oli mielenkiintoista, mutta samalla myös haastavaa koodin monimutkaisuuden vuoksi. Luonnollisen kielen analyysi eli NLP on eräs datatieteiden erityisala. datalähteenä on luonnollinen kieli, jonka käsittelyyn vaaditaan erityistä osaamista, sillä sen rakenne asettaa haasteita siinä, kuinka sitä voidaan käyttää datalähteenä yleisempään numeeriseen dataan verrattuna. Keskeistä tässä on esikäsittely ja piirteiden erottaminen, joiden ansiosta päästään kosketuksiin datan numeerisen muodon kanssa ja erinäisten analyysien muodostaminen on helpompaa. Tavalliselle tallaajalle yleisimpiä NLP:n käyttökohteita ovat chatbotit ja automaattiset konekäännökset. Eli esimerkiksi Fortumin äärettömän kömpelö apubotti, joka ei itse osaa vastata asiakkaan vastauksiin vaan omalla kokemuksella lähes poikkeuksetta ohjaa asiakkaan asiakaspalvelun puolelle. Tämä kokemus huomioon ottaen en täysin ymmärrä, millaista arvoa NLP voi tuoda datan käsittelyyn, sillä mielestäni tekstipohjaisen datan käsittely vaikuttaa ensisilmäykseltä turhalta työltä. Esimerkiksi yritysmaailmassa tiedostojen kuten vaikka työhakemusten luokittelu NLP:n avulla tuntuu riskialttiilta, sillä uskoisin niiden läpikäynnin manuaalisesti ihmistyövoimalla olevan yrityksen arvojen ja hyödyn kannalta kannattavampaa. Näkisin, että tällöin voitaisiin olla lähes satavarmoja, ettei potentiaalisia hakijoita ole koneen toimesta hylätty ja, että firmaan saadaan rekrytoitua tehtävän kannalta juuri oikea henkilö."
   ]
  },
  {
   "cell_type": "markdown",
   "id": "0c0dbe67",
   "metadata": {},
   "source": [
    "Luento itse painottui koodin läpikäyntiin ja ajamiseen. Koodissa ratkaistiin luokitteluongelmaa ministerien antamista vastauksista kirjallisiin kysymyksiin. Ongelman ratkaisu lähti aina tarvittavien kirjastojen lataamisesta, datan lukemiseen, hukkasanojen poistoon, esikäsittelyn kautta itse koneoppimismallin rakentamiseen ja tuloksiin. Omaan kokemattomaan silmääni suurimpana painotuksena koodissa esiintyi esikäsittelyn vaiheet, joihin kuuluivat alkukirjainten muuttaminen pieniksi, erikoismerkkien poisto, hukkasanojen poisto sekä perusmuotoistaminen. Vaikka tällä tavoin lueteltuna prosessi vaikuttaa ainakin omasta mielestäni loogiselta, ei se sitä koodia tuijottaessani ollut. Tästä voin kyllä täysin syyttää kokemattomuuttani ohjelmoinnin parissa."
   ]
  },
  {
   "cell_type": "markdown",
   "id": "00c99bd5",
   "metadata": {},
   "source": [
    "Oppimistilaisuuden koodi oli omaan silmään niin monimutkaista, etten demokoodia koostaessani uskaltanut lähteä vastaavanlaista koodia vääntämään. Täten alla oleva koodi on ote Mikkolan (2021) luentotyökirjasta kohdasta, jonka sisällön ymmärsin oma lähtötasoni huomioon ottaen itse lähes täysin. Mielestäni koodi kohtaa hyvin myös demosession sisältöön, joka myös käsitteli tekstin analysointia."
   ]
  },
  {
   "cell_type": "markdown",
   "id": "92d5fb7a",
   "metadata": {},
   "source": [
    "                                                          "
   ]
  },
  {
   "cell_type": "code",
   "execution_count": 54,
   "id": "7b269fee",
   "metadata": {},
   "outputs": [
    {
     "name": "stdout",
     "output_type": "stream",
     "text": [
      "Alkuperäinen teksti:  Datatiede rakentuu neljän laajan kokonaisuuden varaan: liiketoimintaosaaminen, ohjelmointi- ja tietokantaosaaminen, tilastollinen analyysi ja datalähtöinen viestintä ja visualisointi. Opintojaksolla on tavoitteena syventyä näihin aiheisiin datatieteen näkökulmasta sekä esitellä opiskelijoille riittävät tiedot datatiedeosaamiseen kuuluvien taitojen hankkimiseen Tampereen yliopiston opetustarjonnasta. Opintojakson suoritettuaan opiskelija osaa jäsentää datatieteen kentän keskeiset menetelmävaihtoehdot, arvioida menetelmien soveltumista tietojohtamisen ongelmakenttään ja toteuttaa yksinkertaisen analytiikkaprosessin laskennallisesti.\n",
      "\n",
      "Erikoismerkit poistettu: datatiede rakentuu neljän laajan kokonaisuuden varaan liiketoimintaosaaminen ohjelmointi tietokantaosaaminen tilastollinen analyysi datalähtöinen viestintä visualisointi opintojaksolla tavoitteena syventyä näihin aiheisiin datatieteen näkökulmasta sekä esitellä opiskelijoille riittävät tiedot datatiedeosaamiseen kuuluvien taitojen hankkimiseen tampereen yliopiston opetustarjonnasta opintojakson suoritettuaan opiskelija osaa jäsentää datatieteen kentän keskeiset menetelmävaihtoehdot arvioida menetelmien soveltumista tietojohtamisen ongelmakenttään toteuttaa yksinkertaisen analytiikkaprosessin laskennallisesti\n"
     ]
    }
   ],
   "source": [
    "# Ladataan tarvittava kirjasto\n",
    "import re\n",
    "\n",
    "\n",
    "# Määritetään muunnettava teksti (saatavilla Sisusta opintojakson kuvauksesta)\n",
    "text = 'Datatiede rakentuu neljän laajan kokonaisuuden varaan: liiketoimintaosaaminen, ohjelmointi- ja tietokantaosaaminen, tilastollinen analyysi ja datalähtöinen viestintä ja visualisointi. Opintojaksolla on tavoitteena syventyä näihin aiheisiin datatieteen näkökulmasta sekä esitellä opiskelijoille riittävät tiedot datatiedeosaamiseen kuuluvien taitojen hankkimiseen Tampereen yliopiston opetustarjonnasta. Opintojakson suoritettuaan opiskelija osaa jäsentää datatieteen kentän keskeiset menetelmävaihtoehdot, arvioida menetelmien soveltumista tietojohtamisen ongelmakenttään ja toteuttaa yksinkertaisen analytiikkaprosessin laskennallisesti.'\n",
    "\n",
    "# Tehdään tekstin sanoista lista\n",
    "words = text.split(\" \")\n",
    "\n",
    "# Tyhjä lista esikäsitellyille sanoille\n",
    "preprocessed_words = [] \n",
    "\n",
    "# Käsitellään sanat silmukalla\n",
    "for word in words:\n",
    "  word = re.sub(\"[^A-Za-z0-9ÄäÖö-]+\", \"\", word) # Poistetaan regexin avulla kaikki merkit paitsi A-Ö-kirjaimet ja numerot\n",
    "  word = re.sub(\"-\", \" \", word) # Muutetaan regex-komennon avulla kaikki väliviivalliset sanat eri sanoiksi vaihtamalla viivan tilalle välilyönti\n",
    "  word = word.strip().lower() # Poistetaan sanan ympäriltä ylimääräiset välilyönnit ja muutetaan kaikki kirjaimet pieniksi\n",
    "  if len(word) > 2:  # Hylätään kaikki kaksi merkkiä lyhyemmät merkkijonot\n",
    "    preprocessed_words.append(word) # Lisätään sana esikäsiteltyjen sanojen listaan\n",
    "\n",
    "# Liitetään listan sanat toisiinsa välilyönnein ja tulostetaan tekstit\n",
    "text_sc = \" \".join(preprocessed_words)\n",
    "print(\"Alkuperäinen teksti: \", text)\n",
    "print()\n",
    "print(\"Erikoismerkit poistettu:\", text_sc)"
   ]
  },
  {
   "cell_type": "markdown",
   "id": "2e63f1fb",
   "metadata": {},
   "source": [
    "                                                            "
   ]
  },
  {
   "cell_type": "markdown",
   "id": "0442ede4",
   "metadata": {},
   "source": [
    "Vaikka yllä esitetty koodi ei olekaan haastavuudeltaan päätä huimaava, niin uskon silti sen tason kuvastavan parhaiten omaa koodamistasoani tällä hetkellä. En myöskään usko kyseisen koodi pätkän edustavan NLP-prosessin tärkeimpiä vaiheita, sillä mielestäni parhaan arvon saavuttamiseksi datasta merkittävämpi vaihe prosessissa on arvottomien hukkasanojen poisto, jolloin data on siistimpää ja arvon hahmottaminen helpompaa."
   ]
  },
  {
   "cell_type": "markdown",
   "id": "b306fabd",
   "metadata": {},
   "source": [
    "Mielestäni Mikkolan vierailuluento oli kokonaisuudessaan erittäin onnistunut ja herätti lisää kiinnostusta datatiedettä kohtaan sekä alana että jopa mahdollisesti urana. Uutena tietona minulle tuli, mitä kohina tarkoittaa tekstimuotoisessa datassa, kuinka konteksti vaikuttaa sanan arvoon NLP:stä puhuttaessa sekä, kuinka äärettömän tärkeä vaihe esikäsittely tekstimuotoisen datan kohdalla on. Lisäksi, ehkä luennon aiheesta hieman irrallisena huomiona, mieleeni selkeytyi paremmin numpyn toimintaperiaate. Luento oli mielestäni erinomainen läpileikkaus myös koneoppimisen prosessiin, joka tämän myötä selkeytyi mielessäni. Kehitysehdotuksia minulla ei vierailuluennolle ole muita kuin, että virtuaalitoteutuksen sijasta voisi olla mukavaa päästä kyseisen yrityksen tiloihin luennolle, sillä tällä tavoin olisi ehkä mahdollista saada vieläkin parempi kuva yrityksen toiminnasta, arvoista sekä ilmapiiristä. Tämä on tietenkin täysin riippuvaista yrityksestä ja heidän tiloistaan."
   ]
  },
  {
   "cell_type": "markdown",
   "id": "8abd555e",
   "metadata": {},
   "source": [
    "                                                           "
   ]
  },
  {
   "cell_type": "markdown",
   "id": "d85f54a8",
   "metadata": {},
   "source": [
    "                                    "
   ]
  },
  {
   "cell_type": "markdown",
   "id": "a0df91e5",
   "metadata": {},
   "source": [
    "## Luentoviikko 6: Ohjaamaton oppiminen "
   ]
  },
  {
   "cell_type": "markdown",
   "id": "c62b2392",
   "metadata": {},
   "source": [
    "Toiseksi viimeisen luentoviikon aiheena toimi koneoppimisen aihealue ohjaamaton oppiminen. Oppimispäiväkirjan kirjoittaminen painottui täysin tallenteen varaan, sillä en taaskaan jaksanut hinata itseäni sähkötalon penkkiin. Demosessiosta yritin katsoa tallennetta, mutta ilmeisesti äänen tallentamisessa on tapahtunut joku virhe ja koko oppimistapahtumassa ei ollut saatavilla ääntä."
   ]
  },
  {
   "cell_type": "markdown",
   "id": "465daa31",
   "metadata": {},
   "source": [
    "Ohjaamaton oppiminen poikkeaa ohjatusta oppimisesta pääasiassa sen prosessin lopputuotteiden osalta. Molempien oppimistyyppien prosesseissa lähdetään liikeelle raakadatasta, josta erotetaan piirteitä, opetetaan malli, arvioidaan sitä ja saadaan datalle jokin ennuste. Ohjatun oppimisen kohdalla uuden datan tullessa oppimismalliin saadaan aina vain uusia labeleita ja niiden ennusteet. Sen sijaan ohjaamattomassa oppimisessa uuden datan tullessa koneeseen ei enää saadakkaan vain labeleita vaan tulokset voivat olla esimerkiksi klustereita kuten esimerkiksi asiakassegmenttejä tai jotain muita 'samanlaisia' datajoukkioita. Tämä klusterointi on erinomainen esimerkki ohjaamattomasta ohjauksesta. Lisäksi esimerkiksi ostoskorianalyysi on ohjaamatonta oppimista."
   ]
  },
  {
   "cell_type": "markdown",
   "id": "38389702",
   "metadata": {},
   "source": [
    "Ostoskorianalyysista puhuttaessa mieleeni tuli ajatus siitä, että voitaisiinko ohjaamattomasta oppimisesta puhua, vaikka tiedon käsittelijänä ei olisikaan kone. Olen nimittäin itse työskennellyt useamman vuoden kaupan kassalla, jossa erilaisia ostoskoreja kantavista ihmisistä on muodostunut päähäni selkeät stereotyypit. Täten usein tuotteitta hyllyttäessäni kuvittelen millainen henkilö kyseistä tuotetta ostaa ja uuden tuntemattoman asiakkaan kävellessä kauppaan usein pohdin hänen ostavan todennäköisesti joitakin tiettyjä tuotteita. Toki välillä nämä stereotyypit rapistuvat yllättävien ostosten ilmestyessä ostoshihnalle, mutta kuitenkin suuressa kuvassa olen omassa päässäni muodostanut kuvat joukkioista, jotka tietyn tyyppisiä tuotteita ostavat ja usein nämä ajatusmallini osuvatkin oikeaan."
   ]
  },
  {
   "cell_type": "markdown",
   "id": "2455b38f",
   "metadata": {},
   "source": [
    "Ryvästämisessä saadun datan pisteet jaetaan kokonaisuuksiksi siten, että kukin kokonaisuutensa sijaitsee mahdollisimman pienellä alueella, mutta kokonaisuudet itsessään sijaitsevat mahdollisimman kaukana toisistaan. Yleensä nämä kokonaisuudet omaavat jonkin yhteisen ominaisuuden, mutta saadussa tietojoukossa ei ole valmiina tietoa tästä yhteisestä tekijästä. Vaikka ryvästäminen onkin ohjaamattoman oppimisen menetelmä, tapahtuu siinäkin ohjaamista klustereiden määrää valittaessa. Tämän viikon demokoodissa halusin hieman tutustua ryvästämisen alkupään koodiin ja harjoitella tätä kautta lisää pandasin toimintoja kuten esimerkiksi tyhjäarvojen poistamista datan jalostamiseksi. Tämän uskon hyödyttävän suuresti harjoitustyötä tehdessä. Demokoodi on esitettynä alla. Koodissani tutkin Inside AirBnB:n (n.d.) datasettiä Amsterdamissa sijaitsevista asunnoista."
   ]
  },
  {
   "cell_type": "markdown",
   "id": "1138141c",
   "metadata": {},
   "source": [
    "                                                                     "
   ]
  },
  {
   "cell_type": "code",
   "execution_count": 59,
   "id": "558dadab",
   "metadata": {},
   "outputs": [
    {
     "data": {
      "text/html": [
       "<div>\n",
       "<style scoped>\n",
       "    .dataframe tbody tr th:only-of-type {\n",
       "        vertical-align: middle;\n",
       "    }\n",
       "\n",
       "    .dataframe tbody tr th {\n",
       "        vertical-align: top;\n",
       "    }\n",
       "\n",
       "    .dataframe thead th {\n",
       "        text-align: right;\n",
       "    }\n",
       "</style>\n",
       "<table border=\"1\" class=\"dataframe\">\n",
       "  <thead>\n",
       "    <tr style=\"text-align: right;\">\n",
       "      <th></th>\n",
       "      <th>id</th>\n",
       "      <th>name</th>\n",
       "      <th>host_id</th>\n",
       "      <th>host_name</th>\n",
       "      <th>neighbourhood_group</th>\n",
       "      <th>neighbourhood</th>\n",
       "      <th>latitude</th>\n",
       "      <th>longitude</th>\n",
       "      <th>room_type</th>\n",
       "      <th>price</th>\n",
       "      <th>minimum_nights</th>\n",
       "      <th>number_of_reviews</th>\n",
       "      <th>last_review</th>\n",
       "      <th>reviews_per_month</th>\n",
       "      <th>calculated_host_listings_count</th>\n",
       "      <th>availability_365</th>\n",
       "      <th>number_of_reviews_ltm</th>\n",
       "      <th>license</th>\n",
       "    </tr>\n",
       "  </thead>\n",
       "  <tbody>\n",
       "    <tr>\n",
       "      <th>0</th>\n",
       "      <td>2818</td>\n",
       "      <td>Quiet Garden View Room &amp; Super Fast WiFi</td>\n",
       "      <td>3159</td>\n",
       "      <td>Daniel</td>\n",
       "      <td>NaN</td>\n",
       "      <td>Oostelijk Havengebied - Indische Buurt</td>\n",
       "      <td>52.364350</td>\n",
       "      <td>4.943580</td>\n",
       "      <td>Private room</td>\n",
       "      <td>49</td>\n",
       "      <td>3</td>\n",
       "      <td>285</td>\n",
       "      <td>2021-11-21</td>\n",
       "      <td>1.81</td>\n",
       "      <td>1</td>\n",
       "      <td>62</td>\n",
       "      <td>7</td>\n",
       "      <td>0363 5F3A 5684 6750 D14D</td>\n",
       "    </tr>\n",
       "    <tr>\n",
       "      <th>1</th>\n",
       "      <td>20168</td>\n",
       "      <td>Studio with private bathroom in the centre 1</td>\n",
       "      <td>59484</td>\n",
       "      <td>Alexander</td>\n",
       "      <td>NaN</td>\n",
       "      <td>Centrum-Oost</td>\n",
       "      <td>52.364070</td>\n",
       "      <td>4.893930</td>\n",
       "      <td>Private room</td>\n",
       "      <td>106</td>\n",
       "      <td>1</td>\n",
       "      <td>339</td>\n",
       "      <td>2020-04-09</td>\n",
       "      <td>2.30</td>\n",
       "      <td>2</td>\n",
       "      <td>0</td>\n",
       "      <td>0</td>\n",
       "      <td>0363 CBB3 2C10 0C2A 1E29</td>\n",
       "    </tr>\n",
       "    <tr>\n",
       "      <th>2</th>\n",
       "      <td>27886</td>\n",
       "      <td>Romantic, stylish B&amp;B houseboat in canal district</td>\n",
       "      <td>97647</td>\n",
       "      <td>Flip</td>\n",
       "      <td>NaN</td>\n",
       "      <td>Centrum-West</td>\n",
       "      <td>52.387610</td>\n",
       "      <td>4.891880</td>\n",
       "      <td>Private room</td>\n",
       "      <td>134</td>\n",
       "      <td>2</td>\n",
       "      <td>228</td>\n",
       "      <td>2022-02-20</td>\n",
       "      <td>1.84</td>\n",
       "      <td>1</td>\n",
       "      <td>189</td>\n",
       "      <td>9</td>\n",
       "      <td>0363 974D 4986 7411 88D8</td>\n",
       "    </tr>\n",
       "    <tr>\n",
       "      <th>3</th>\n",
       "      <td>28871</td>\n",
       "      <td>Comfortable double room</td>\n",
       "      <td>124245</td>\n",
       "      <td>Edwin</td>\n",
       "      <td>NaN</td>\n",
       "      <td>Centrum-West</td>\n",
       "      <td>52.367750</td>\n",
       "      <td>4.890920</td>\n",
       "      <td>Private room</td>\n",
       "      <td>75</td>\n",
       "      <td>2</td>\n",
       "      <td>379</td>\n",
       "      <td>2022-03-05</td>\n",
       "      <td>2.70</td>\n",
       "      <td>2</td>\n",
       "      <td>146</td>\n",
       "      <td>43</td>\n",
       "      <td>0363 607B EA74 0BD8 2F6F</td>\n",
       "    </tr>\n",
       "    <tr>\n",
       "      <th>4</th>\n",
       "      <td>29051</td>\n",
       "      <td>Comfortable single room</td>\n",
       "      <td>124245</td>\n",
       "      <td>Edwin</td>\n",
       "      <td>NaN</td>\n",
       "      <td>Centrum-Oost</td>\n",
       "      <td>52.365840</td>\n",
       "      <td>4.891110</td>\n",
       "      <td>Private room</td>\n",
       "      <td>55</td>\n",
       "      <td>2</td>\n",
       "      <td>532</td>\n",
       "      <td>2022-03-04</td>\n",
       "      <td>3.98</td>\n",
       "      <td>2</td>\n",
       "      <td>170</td>\n",
       "      <td>53</td>\n",
       "      <td>0363 607B EA74 0BD8 2F6F</td>\n",
       "    </tr>\n",
       "    <tr>\n",
       "      <th>...</th>\n",
       "      <td>...</td>\n",
       "      <td>...</td>\n",
       "      <td>...</td>\n",
       "      <td>...</td>\n",
       "      <td>...</td>\n",
       "      <td>...</td>\n",
       "      <td>...</td>\n",
       "      <td>...</td>\n",
       "      <td>...</td>\n",
       "      <td>...</td>\n",
       "      <td>...</td>\n",
       "      <td>...</td>\n",
       "      <td>...</td>\n",
       "      <td>...</td>\n",
       "      <td>...</td>\n",
       "      <td>...</td>\n",
       "      <td>...</td>\n",
       "      <td>...</td>\n",
       "    </tr>\n",
       "    <tr>\n",
       "      <th>5727</th>\n",
       "      <td>54326252</td>\n",
       "      <td>Cinema room with beamer, surround sound and pr...</td>\n",
       "      <td>342059962</td>\n",
       "      <td>David</td>\n",
       "      <td>NaN</td>\n",
       "      <td>Geuzenveld - Slotermeer</td>\n",
       "      <td>52.385820</td>\n",
       "      <td>4.831710</td>\n",
       "      <td>Private room</td>\n",
       "      <td>119</td>\n",
       "      <td>1</td>\n",
       "      <td>0</td>\n",
       "      <td>NaN</td>\n",
       "      <td>NaN</td>\n",
       "      <td>16</td>\n",
       "      <td>319</td>\n",
       "      <td>0</td>\n",
       "      <td>Exempt</td>\n",
       "    </tr>\n",
       "    <tr>\n",
       "      <th>5728</th>\n",
       "      <td>54326276</td>\n",
       "      <td>The Sixpack - 6 person bunkbed room.</td>\n",
       "      <td>342059962</td>\n",
       "      <td>David</td>\n",
       "      <td>NaN</td>\n",
       "      <td>Geuzenveld - Slotermeer</td>\n",
       "      <td>52.385670</td>\n",
       "      <td>4.831610</td>\n",
       "      <td>Private room</td>\n",
       "      <td>206</td>\n",
       "      <td>1</td>\n",
       "      <td>3</td>\n",
       "      <td>2022-02-28</td>\n",
       "      <td>3.00</td>\n",
       "      <td>16</td>\n",
       "      <td>359</td>\n",
       "      <td>3</td>\n",
       "      <td>Exempt</td>\n",
       "    </tr>\n",
       "    <tr>\n",
       "      <th>5729</th>\n",
       "      <td>552745262656654391</td>\n",
       "      <td>Budget Family Studio - 4 person room with 2 do...</td>\n",
       "      <td>342059962</td>\n",
       "      <td>David</td>\n",
       "      <td>NaN</td>\n",
       "      <td>Geuzenveld - Slotermeer</td>\n",
       "      <td>52.385990</td>\n",
       "      <td>4.833680</td>\n",
       "      <td>Private room</td>\n",
       "      <td>181</td>\n",
       "      <td>1</td>\n",
       "      <td>1</td>\n",
       "      <td>2022-02-13</td>\n",
       "      <td>1.00</td>\n",
       "      <td>16</td>\n",
       "      <td>329</td>\n",
       "      <td>1</td>\n",
       "      <td>Exempt</td>\n",
       "    </tr>\n",
       "    <tr>\n",
       "      <th>5730</th>\n",
       "      <td>556914334042444196</td>\n",
       "      <td>Cozy house near Amsterdam</td>\n",
       "      <td>169176698</td>\n",
       "      <td>Igor</td>\n",
       "      <td>NaN</td>\n",
       "      <td>IJburg - Zeeburgereiland</td>\n",
       "      <td>52.348350</td>\n",
       "      <td>4.978880</td>\n",
       "      <td>Entire home/apt</td>\n",
       "      <td>90</td>\n",
       "      <td>3</td>\n",
       "      <td>0</td>\n",
       "      <td>NaN</td>\n",
       "      <td>NaN</td>\n",
       "      <td>1</td>\n",
       "      <td>8</td>\n",
       "      <td>0</td>\n",
       "      <td>NaN</td>\n",
       "    </tr>\n",
       "    <tr>\n",
       "      <th>5731</th>\n",
       "      <td>561230877774534784</td>\n",
       "      <td>Mooi appartement met gratis parkeren voor de d...</td>\n",
       "      <td>444769693</td>\n",
       "      <td>Yerson</td>\n",
       "      <td>NaN</td>\n",
       "      <td>IJburg - Zeeburgereiland</td>\n",
       "      <td>52.353333</td>\n",
       "      <td>4.975411</td>\n",
       "      <td>Entire home/apt</td>\n",
       "      <td>90</td>\n",
       "      <td>1</td>\n",
       "      <td>0</td>\n",
       "      <td>NaN</td>\n",
       "      <td>NaN</td>\n",
       "      <td>1</td>\n",
       "      <td>268</td>\n",
       "      <td>0</td>\n",
       "      <td>NaN</td>\n",
       "    </tr>\n",
       "  </tbody>\n",
       "</table>\n",
       "<p>5732 rows × 18 columns</p>\n",
       "</div>"
      ],
      "text/plain": [
       "                      id                                               name  \\\n",
       "0                   2818           Quiet Garden View Room & Super Fast WiFi   \n",
       "1                  20168       Studio with private bathroom in the centre 1   \n",
       "2                  27886  Romantic, stylish B&B houseboat in canal district   \n",
       "3                  28871                            Comfortable double room   \n",
       "4                  29051                            Comfortable single room   \n",
       "...                  ...                                                ...   \n",
       "5727            54326252  Cinema room with beamer, surround sound and pr...   \n",
       "5728            54326276               The Sixpack - 6 person bunkbed room.   \n",
       "5729  552745262656654391  Budget Family Studio - 4 person room with 2 do...   \n",
       "5730  556914334042444196                          Cozy house near Amsterdam   \n",
       "5731  561230877774534784  Mooi appartement met gratis parkeren voor de d...   \n",
       "\n",
       "        host_id  host_name  neighbourhood_group  \\\n",
       "0          3159     Daniel                  NaN   \n",
       "1         59484  Alexander                  NaN   \n",
       "2         97647       Flip                  NaN   \n",
       "3        124245      Edwin                  NaN   \n",
       "4        124245      Edwin                  NaN   \n",
       "...         ...        ...                  ...   \n",
       "5727  342059962      David                  NaN   \n",
       "5728  342059962      David                  NaN   \n",
       "5729  342059962      David                  NaN   \n",
       "5730  169176698       Igor                  NaN   \n",
       "5731  444769693     Yerson                  NaN   \n",
       "\n",
       "                               neighbourhood   latitude  longitude  \\\n",
       "0     Oostelijk Havengebied - Indische Buurt  52.364350   4.943580   \n",
       "1                               Centrum-Oost  52.364070   4.893930   \n",
       "2                               Centrum-West  52.387610   4.891880   \n",
       "3                               Centrum-West  52.367750   4.890920   \n",
       "4                               Centrum-Oost  52.365840   4.891110   \n",
       "...                                      ...        ...        ...   \n",
       "5727                 Geuzenveld - Slotermeer  52.385820   4.831710   \n",
       "5728                 Geuzenveld - Slotermeer  52.385670   4.831610   \n",
       "5729                 Geuzenveld - Slotermeer  52.385990   4.833680   \n",
       "5730                IJburg - Zeeburgereiland  52.348350   4.978880   \n",
       "5731                IJburg - Zeeburgereiland  52.353333   4.975411   \n",
       "\n",
       "            room_type  price  minimum_nights  number_of_reviews last_review  \\\n",
       "0        Private room     49               3                285  2021-11-21   \n",
       "1        Private room    106               1                339  2020-04-09   \n",
       "2        Private room    134               2                228  2022-02-20   \n",
       "3        Private room     75               2                379  2022-03-05   \n",
       "4        Private room     55               2                532  2022-03-04   \n",
       "...               ...    ...             ...                ...         ...   \n",
       "5727     Private room    119               1                  0         NaN   \n",
       "5728     Private room    206               1                  3  2022-02-28   \n",
       "5729     Private room    181               1                  1  2022-02-13   \n",
       "5730  Entire home/apt     90               3                  0         NaN   \n",
       "5731  Entire home/apt     90               1                  0         NaN   \n",
       "\n",
       "      reviews_per_month  calculated_host_listings_count  availability_365  \\\n",
       "0                  1.81                               1                62   \n",
       "1                  2.30                               2                 0   \n",
       "2                  1.84                               1               189   \n",
       "3                  2.70                               2               146   \n",
       "4                  3.98                               2               170   \n",
       "...                 ...                             ...               ...   \n",
       "5727                NaN                              16               319   \n",
       "5728               3.00                              16               359   \n",
       "5729               1.00                              16               329   \n",
       "5730                NaN                               1                 8   \n",
       "5731                NaN                               1               268   \n",
       "\n",
       "      number_of_reviews_ltm                   license  \n",
       "0                         7  0363 5F3A 5684 6750 D14D  \n",
       "1                         0  0363 CBB3 2C10 0C2A 1E29  \n",
       "2                         9  0363 974D 4986 7411 88D8  \n",
       "3                        43  0363 607B EA74 0BD8 2F6F  \n",
       "4                        53  0363 607B EA74 0BD8 2F6F  \n",
       "...                     ...                       ...  \n",
       "5727                      0                    Exempt  \n",
       "5728                      3                    Exempt  \n",
       "5729                      1                    Exempt  \n",
       "5730                      0                       NaN  \n",
       "5731                      0                       NaN  \n",
       "\n",
       "[5732 rows x 18 columns]"
      ]
     },
     "execution_count": 59,
     "metadata": {},
     "output_type": "execute_result"
    }
   ],
   "source": [
    "# Luetaan data\n",
    "url3 = 'http://data.insideairbnb.com/the-netherlands/north-holland/amsterdam/2022-03-08/visualisations/listings.csv'\n",
    "df3 = pd.read_csv(url3)\n",
    "df3"
   ]
  },
  {
   "cell_type": "code",
   "execution_count": 60,
   "id": "94b50d2d",
   "metadata": {},
   "outputs": [
    {
     "data": {
      "text/html": [
       "<div>\n",
       "<style scoped>\n",
       "    .dataframe tbody tr th:only-of-type {\n",
       "        vertical-align: middle;\n",
       "    }\n",
       "\n",
       "    .dataframe tbody tr th {\n",
       "        vertical-align: top;\n",
       "    }\n",
       "\n",
       "    .dataframe thead th {\n",
       "        text-align: right;\n",
       "    }\n",
       "</style>\n",
       "<table border=\"1\" class=\"dataframe\">\n",
       "  <thead>\n",
       "    <tr style=\"text-align: right;\">\n",
       "      <th></th>\n",
       "      <th>id</th>\n",
       "      <th>host_id</th>\n",
       "      <th>price</th>\n",
       "      <th>number_of_reviews</th>\n",
       "      <th>reviews_per_month</th>\n",
       "      <th>number_of_reviews_ltm</th>\n",
       "      <th>availability_365</th>\n",
       "    </tr>\n",
       "  </thead>\n",
       "  <tbody>\n",
       "    <tr>\n",
       "      <th>0</th>\n",
       "      <td>2818</td>\n",
       "      <td>3159</td>\n",
       "      <td>49</td>\n",
       "      <td>285</td>\n",
       "      <td>1.81</td>\n",
       "      <td>7</td>\n",
       "      <td>62</td>\n",
       "    </tr>\n",
       "    <tr>\n",
       "      <th>1</th>\n",
       "      <td>20168</td>\n",
       "      <td>59484</td>\n",
       "      <td>106</td>\n",
       "      <td>339</td>\n",
       "      <td>2.30</td>\n",
       "      <td>0</td>\n",
       "      <td>0</td>\n",
       "    </tr>\n",
       "    <tr>\n",
       "      <th>2</th>\n",
       "      <td>27886</td>\n",
       "      <td>97647</td>\n",
       "      <td>134</td>\n",
       "      <td>228</td>\n",
       "      <td>1.84</td>\n",
       "      <td>9</td>\n",
       "      <td>189</td>\n",
       "    </tr>\n",
       "    <tr>\n",
       "      <th>3</th>\n",
       "      <td>28871</td>\n",
       "      <td>124245</td>\n",
       "      <td>75</td>\n",
       "      <td>379</td>\n",
       "      <td>2.70</td>\n",
       "      <td>43</td>\n",
       "      <td>146</td>\n",
       "    </tr>\n",
       "    <tr>\n",
       "      <th>4</th>\n",
       "      <td>29051</td>\n",
       "      <td>124245</td>\n",
       "      <td>55</td>\n",
       "      <td>532</td>\n",
       "      <td>3.98</td>\n",
       "      <td>53</td>\n",
       "      <td>170</td>\n",
       "    </tr>\n",
       "  </tbody>\n",
       "</table>\n",
       "</div>"
      ],
      "text/plain": [
       "      id  host_id  price  number_of_reviews  reviews_per_month  \\\n",
       "0   2818     3159     49                285               1.81   \n",
       "1  20168    59484    106                339               2.30   \n",
       "2  27886    97647    134                228               1.84   \n",
       "3  28871   124245     75                379               2.70   \n",
       "4  29051   124245     55                532               3.98   \n",
       "\n",
       "   number_of_reviews_ltm  availability_365  \n",
       "0                      7                62  \n",
       "1                      0                 0  \n",
       "2                      9               189  \n",
       "3                     43               146  \n",
       "4                     53               170  "
      ]
     },
     "execution_count": 60,
     "metadata": {},
     "output_type": "execute_result"
    }
   ],
   "source": [
    "# Luodaan uusi dataframe ja tulostetaan se\n",
    "df4 = df3[['id','host_id','price','number_of_reviews','reviews_per_month','number_of_reviews_ltm','availability_365']]\n",
    "df4.head()"
   ]
  },
  {
   "cell_type": "code",
   "execution_count": 61,
   "id": "e0d0c7d3",
   "metadata": {},
   "outputs": [
    {
     "data": {
      "text/plain": [
       "id                         0\n",
       "host_id                    0\n",
       "price                      0\n",
       "number_of_reviews          0\n",
       "reviews_per_month        576\n",
       "number_of_reviews_ltm      0\n",
       "availability_365           0\n",
       "dtype: int64"
      ]
     },
     "execution_count": 61,
     "metadata": {},
     "output_type": "execute_result"
    }
   ],
   "source": [
    "# Katsotaan kuinka paljon tyhjäarvoja dataframesta löytyy\n",
    "df4.isnull().sum()"
   ]
  },
  {
   "cell_type": "code",
   "execution_count": 62,
   "id": "3cfd4598",
   "metadata": {},
   "outputs": [
    {
     "data": {
      "text/plain": [
       "(5732, 7)"
      ]
     },
     "execution_count": 62,
     "metadata": {},
     "output_type": "execute_result"
    }
   ],
   "source": [
    "# Muut ongelmat\n",
    "tietueita = df4.shape\n",
    "tietueita"
   ]
  },
  {
   "cell_type": "code",
   "execution_count": 63,
   "id": "771dcaf2",
   "metadata": {},
   "outputs": [
    {
     "name": "stdout",
     "output_type": "stream",
     "text": [
      "Poistettuja tietueita oli: 0 jäljellä 5732\n"
     ]
    }
   ],
   "source": [
    "# Poistetaan tyhjäarvoja\n",
    "dfNum=df4.dropna()\n",
    "print(\"Poistettuja tietueita oli: \"+str(tietueita[0]-df4.shape[0])+\" jäljellä \"+str(df4.shape[0]))"
   ]
  },
  {
   "cell_type": "code",
   "execution_count": 64,
   "id": "9f8f185b",
   "metadata": {},
   "outputs": [
    {
     "data": {
      "image/png": "[encoded data removed]",
      "text/plain": [
       "<Figure size 432x288 with 9 Axes>"
      ]
     },
     "metadata": {
      "needs_background": "light"
     },
     "output_type": "display_data"
    }
   ],
   "source": [
    "# Piirretään histogrammit\n",
    "hist = df4.hist()"
   ]
  },
  {
   "cell_type": "markdown",
   "id": "1a7ebf5c",
   "metadata": {},
   "source": [
    "                                                              "
   ]
  },
  {
   "cell_type": "markdown",
   "id": "105faec9",
   "metadata": {},
   "source": [
    "Demokoodissani esitetty ryvästäminen on vasta alkumaistiainen aiheeseen, sillä mielestäni tutkittavaa dataa tulisi jalostaa vieläkin pidemmälle. En ole myöskään täysin varma, kuinka tarkoituksenmukaisesti koodissani valitsin tutkittavat sarakkeet, sillä voisin kuvitella esimerkiksi kartan sijaintitietojen olevan kyseisen datan ryvästämisessä mahdollisesti hyödyllistä tietoa. "
   ]
  },
  {
   "cell_type": "markdown",
   "id": "9e548cc4",
   "metadata": {},
   "source": [
    "Ryvästämisen lisäksi eräs toinen ohjaamattoman oppimisen malli on aihemallinnus. Kyseisessä menetelmässä etsitään dokumenttien kokoelmassa esiintyviä abstrakteja aiheita ja tunnistetaan niitä. Keskeistä siinä on mahdollisten aiheiden löytäämisen todennäköisyyden kasvaminen useammasta dokumentista verrattuna vain yhden datalähteen tutkimiseen.  Omassa päässä ryvästäminen ja mallinnus menevät lähes samaan hyllyyn, mutta erotan ne juurikin tämän yksi vastaan useampi datalähde jaottelun avulla. Aihemallinnusta voidaan hyödyntää esimerkiksi viime luentoviikon aiheen luonnollisen kielen analyysin toteuttamisessa. Mikkonen (2021) esitteli luennollaan, kuinka luonnollista kieltä voidaan esikäsittelyn jälkeen analysoida vektorimallin avulla. Tässä mallissa sanat nimenomaisesti yhdistetään johonkin tiettyyn ryhmään tai 'aiheeseen', mikä on mielestäni erinomainen ja konkreettinen esimerkki kuvaamaan aihemallinnusta."
   ]
  },
  {
   "cell_type": "markdown",
   "id": "7cf2886e",
   "metadata": {},
   "source": [
    "Tällä luentoviikolla opin, mitä ohjaamaton oppiminen oikeastaan on ja kuinka se eroaa ohjatusta oppimisesta. Keskeinen oivallus tällä viikolla oli, että ohjaamaton oppiminen ei oikeastaan koskaan ole täysin ohjaamatonta, sillä dataa ja sen tuloksia manipuloidaan esimerkiksi klustereiden lukumäärää muuttamalla. Mielenkiintoista oli myös oppia mitä erilaisia metodeja ohjaamattomaan oppimiseen kuuluu ja, kuinka niitä voidaan Pythonilla käytännössä toteuttaa. Parantaisin luentoviikkoa siten, että poistaisin luennon työkirjasta demokoodit lähes kokonaan ja korvaisin nämä eri metodien konkreettisilla esimerkeillä tai prosessimalleilla. "
   ]
  },
  {
   "cell_type": "markdown",
   "id": "28618a37",
   "metadata": {},
   "source": [
    "                                                    "
   ]
  },
  {
   "cell_type": "markdown",
   "id": "6263e1dd",
   "metadata": {},
   "source": [
    "## Luentoviikko 7: Visuaalinen analytiikka "
   ]
  },
  {
   "cell_type": "markdown",
   "id": "c08cf170",
   "metadata": {},
   "source": [
    "Opintojakson viimeisellä luentoviikolla tutustuttiin visuaaliseen analytiikkaan ja sen merkitykseen datatieteessä. Oppimispäiväkirjan kirjoittamisessa hyödynsin pelkästään luennon tallennetta. Kyseisellä luentoviikolla ei järjestetty demosessiota."
   ]
  },
  {
   "cell_type": "markdown",
   "id": "7bd340ab",
   "metadata": {},
   "source": [
    "Visuaalisella analytiikalla on datatieteessä kaksi eri roolia. Se on osana  eksploratiivista eli kartoittavaa analytiikkaa, sillä siinä katroitetaan lähtödataa tutkivalla otteella. Tämän lisäksi se on osana datan tutkimisen ja jalostamisen välivaiheiden ja tulosten kommunikointia loppukäyttäjälle. Visualisoinneista on usein taulukkomuotoiseen dataan verratuna helpompaa löytää ja tunnistaa yleispiirteitä, jolloin loppukäyttäjältä ei odoteta niin suurta tietämystä datan tulkinnasta. Kaikista yksinkertaisimpia visualisointeja voidaan esimerkiksi nähdä mainoksissa, joissa johinkin tuotteeseen liittyvää dataa on esitetty silmää miellyttävässä visuaalisessa muodossa. Tällöin asiakkaan on taustatiedoistaan huolimatta helppoa vetää johtopäätöksiä tuotteen laadusta. Mielestäni tässä kuitenkin tulee muistaa, että visualisointeja voidaan manipuloida niiden taustalla olevaa dataa jalostamalla sekä esittämällä käyttäjälle vain kyseisen visualisoitavan datan hyvät puolet."
   ]
  },
  {
   "cell_type": "markdown",
   "id": "6bcc006f",
   "metadata": {},
   "source": [
    "Visuaalinen analytiikka voidaan nähdä datan, visualisointien, mallien ja tietämyksen ympärillä pyörivänä prosessina. Visualisoinnin tavoitteena on eksploratiivisen analyysin näkökulmasta löytää oikeampi tutkimuskysymys oikean vastauksen löytämisen sijasta. Tällöin prosessissa muokataan lähtödataa siten, että siitä saadaan muodostettua mielekkäitä visualisointeja ja malleja, joista edelleen voidaan tehdä harkittuja tulkintoja, jolloin päästään soveltamisen kautta tietämykseen. Tämä prosessi voidaan liittää myös tiedon tasojen kolmioon, jossa prosessin lopputuote sijaitsee kolmion kärjessä tietämyksen kohdalla, minne ollaan edetty lähtien datasta kulkien informaation kautta soveltamisen myötä saavutetun tietämyksen luo. Tämä kyseinen pyramidimalli on minulle entuudestaan tuttu Tietojohtamisen perusteet -kurssilta. Kyseisellä kurssilla sivuttiin myös visualisointia, mutta erittäin pintapuolisesti eikä sen syvempään tarkoitukseen missään vaiheessa päästy. Luentomateriaaleissa esitettiin myös kyseisen peruskurssin tietoihin liittyvä väite, että visualisoinneilla päästään eroon ihmisiä nykypäivänä kuormittavasta tietotulvasta ja päästään käsiksi vain kaikista olennaisimpaan tietoon. Tämä on mielestäni aivan täydellinen kuvaus visualisointien tarkoituksesta datatieteessä, jossa tutkittavat datamäärät yleisesti ovat valtavia."
   ]
  },
  {
   "cell_type": "markdown",
   "id": "23d7ddb6",
   "metadata": {},
   "source": [
    "Viimeisen viikon demokoodissa halusin keskittyä nimenomaan erilaisten visualisointien toteuttamiseen, sillä uskoin tämän hyödyttävän harjoitustyön visualisointien tekemisessä. Tässä datana toimi edelliseltä viikolta tuttu Inside AirBnB:n data Amsterdamista. Oppimispäiväkirjan viimeinen koodidemo on esitettynä alla."
   ]
  },
  {
   "cell_type": "markdown",
   "id": "9dbb86e2",
   "metadata": {},
   "source": [
    "                                               "
   ]
  },
  {
   "cell_type": "code",
   "execution_count": 66,
   "id": "c4cebb57",
   "metadata": {},
   "outputs": [
    {
     "data": {
      "text/plain": [
       "<AxesSubplot:title={'center':'Asunnon tyyppi'}>"
      ]
     },
     "execution_count": 66,
     "metadata": {},
     "output_type": "execute_result"
    },
    {
     "data": {
      "image/png": "[encoded data removed]",
      "text/plain": [
       "<Figure size 1440x288 with 1 Axes>"
      ]
     },
     "metadata": {
      "needs_background": "light"
     },
     "output_type": "display_data"
    }
   ],
   "source": [
    "#Piirretään kuvaaja asuntojen tyypeistä\n",
    "import matplotlib.pyplot as figure\n",
    "\n",
    "plt.figure(figsize=(20,4))\n",
    "plt.title('Asunnon tyyppi')\n",
    "df3['room_type'].value_counts().plot(kind='bar', color='Pink')"
   ]
  },
  {
   "cell_type": "code",
   "execution_count": 73,
   "id": "05333da8",
   "metadata": {},
   "outputs": [
    {
     "data": {
      "text/plain": [
       "<AxesSubplot:ylabel='room_type'>"
      ]
     },
     "execution_count": 73,
     "metadata": {},
     "output_type": "execute_result"
    },
    {
     "data": {
      "image/png": "[encoded data removed]",
      "text/plain": [
       "<Figure size 612x612 with 1 Axes>"
      ]
     },
     "metadata": {},
     "output_type": "display_data"
    }
   ],
   "source": [
    "# Muodostetaan ympyrädiagrammi asuntojen tyyppien määristä\n",
    "from collections import Counter\n",
    "pie_nb = Counter(df3.room_type)\n",
    "nb_df = pd.DataFrame.from_dict(pie_nb, orient='index').sort_values(by=0)\n",
    "nb_df.columns = ['room_type']\n",
    "nb_df.plot.pie(y='room_type', colormap='Reds_r', figsize=(8.5,8.5), fontsize=20, autopct='%.2f', legend=False)"
   ]
  },
  {
   "cell_type": "markdown",
   "id": "54ed882c",
   "metadata": {},
   "source": [
    "                                                     "
   ]
  },
  {
   "cell_type": "markdown",
   "id": "9d5347f0",
   "metadata": {},
   "source": [
    "Visualisointeja tehdessä on aina tärkeää miettiä, kenelle kyseistä visualisointia tehdään, sillä se vaikuttaa suoraan siihen millainen visualisointi on mielekäs ja tarkoituksenmukainen. Visualisoinnin tulee olla selkeä ja helposti tulkittavissa. Niissä ei esimerkiksi kannata esittää turhan suurta määrää tietoa sekä niiden värityksessä on hyvä ottaa huomioon esimerkiksi puna-vihervärisokeat. Yleisesti suositellaan välttämää piirakkadiagrammeja, mutta mielestäni yläpuolella esittämäni diagrammi kuvastaa erinomaisesti haluamaani asiaa. Näkisin siis käytettävän visualisoinnin tyypin olevan myös riippuvainen tutkittavasta datasta ja tutkimuskysymyksestä. Itse olen aiemmissa opinnoissani tehnyt yksinkertaisia visualisointeja excelillä sekä lisäksi Liiketoimintatiedon hallinta -kurssilla pääsin kokeilemaan Power BI:tä, joka vaikutti erittäin toimivalta työkalulta tähän tarpeeseen ja sitä haluaisin opetella lisää vielä tulevaisuudessa."
   ]
  },
  {
   "cell_type": "markdown",
   "id": "051cb84c",
   "metadata": {},
   "source": [
    "Kyseiseltä luoentoviikolta käteen jäi kasa taustateoriaa visualisoinneista, tietämystä siitä, kuinka visualisoinnit kuuluvat osana datatieteeseen sekä lisäksi opin kuinka visualisointeja voidaan tehdä Pythonia hyväksikäyttäen. Parannusehdotuksena luentoviikolle ehdottaisin vieläkin useampien eri visualisointityökalujen esittelyä, sillä mielestäni viikon aihealue on melko selkeä eikä teoriaa ole tarve käydä läpi niin yksityiskohtaisesti."
   ]
  },
  {
   "cell_type": "markdown",
   "id": "6b59285b",
   "metadata": {},
   "source": [
    "Näin viimeisen oppimispäiväkirjan luvun kunniaksi pohditaan vielä, kuinka paljon olenkaan opintojakson aikana oppinut. Ensimmäisenä tavoitteenani opintojaksolle lähdettäessä oli oppia ymmärtämään paremmin mitä kaikkia aihealueita datatieteeseen sisältyy ja kuinka nämä suhtautuvat toisiinsa nähden. Näen onnistuneeni tässä tavoitteessa hyvin, sillä kurssin luentorunko tuki tavoitteen toteutumista ja tietämys kasaantui opintojakson edetessä, vaikka jossakin vaiheessa jokin osa-alue saattoikin alkuun jäädä hieman hämärän peittoon. Seuraava oppimistavoitteeni oli selvittää, kuinka datatiede näkyy yritysten toiminnassa. Tämä mielestäni avautui hieman ja etenkin vierailuluento avasi silmiä eri mahdollisuuksien suhteen, mutta kokonaisuudessaan en näe oppineeni asiasta kurssin aikana kovinkaan konkreettisesti. Viimeinen oppimistavoitteeni oli kehittyä ohjelmoijana, mikä mielestäni onnistui varsin hyvin, sillä sekä oppimispäiväkirjan että harjoitustyön parissa puuhastellessa oppi uutta suorastaan huomaamatta. Kokonaisuutena kurssi oli erittäin opettavainen ja herätti vieläkin suuremman kiinnostuksen datatiedettä kohtaan.   "
   ]
  },
  {
   "cell_type": "markdown",
   "id": "9417ddef",
   "metadata": {},
   "source": [
    "## Lähteet "
   ]
  },
  {
   "cell_type": "markdown",
   "id": "84f755f8",
   "metadata": {},
   "source": [
    "Avoin data. (2018). Väistötiloissa opiskelevat peruskoululaiset syyslukukaudella 2018. Saatavilla www-muodossa osoitteessa: https://www.avoindata.fi/data/fi/dataset/vaistotiloissa-opiskelevat-peruskoululaiset-syksy-2018/resource/11e1d4b7-6a06-4c8a-a504-6ccede3a786d (Viitattu 11.5.2022)\n",
    "\n",
    "Avoin data. (2022a). Kelan etuuksien saajat ja maksetut etuudet. Saatavilla www-muodossa osoitteessa: https://www.avoindata.fi/data/fi/dataset/kelan-etuuksien-saajat-ja-maksetut-etuudet/resource/a3be1d46-1c33-4a59-84d4-66a348b1551c (Viitattu 12.5.2022)\n",
    "\n",
    "Avoin data. (2022b). Maksetut takuueläkkeet. Saatavilla www-muodossa osoitteessa: https://www.avoindata.fi/data/fi/dataset/maksetut-takuuelakkeet/resource/bc9a6486-3f0c-40cc-8016-8b7e803075b8 (Viitattu 12.5.2022)\n",
    "\n",
    "Gigantti. (n.d.). Weber Genesis II E310 kaasugrilli 61010169 (musta). Saatavilla www-muodossa osoitteessa: https://www.gigantti.fi/product/kodin-pienkoneet/grillit/kaasugrillit/weber-genesis-ii-e310-kaasugrilli-61010169-musta/17523 (Viitattu 12.5.2022)\n",
    "\n",
    "Inside AirBnB. (n.d.). Get the Data. Amsterdam. Saatavilla www-muodossa osoitteessa: http://insideairbnb.com/get-the-data/ (Viitattu 12.5.2022)\n",
    "\n",
    "Mikkonen, T. (2021). Vierailuluento: Luonnollisen kielen analyysi. Luento Tampereen Yliopistossa keväällä 2021. Luentomateriaalit saatavilla www-muodossa osoitteessa: https://github.com/MikkonenTS/Futurice-Joda/blob/main/FuturiceJODA.ipynb\n",
    "\n",
    "School of data science Amsterdam. (2017) What skills do I need to become a modern Data Scientist? Saatavilla www-muodossa osoitteessa: https://www.schoolofdatascience.amsterdam/news/skills-need-become-modern-data-scientist/ (Viitattu 12.5.2022)"
   ]
  }
 ],
 "metadata": {
  "kernelspec": {
   "display_name": "Python 3 (ipykernel)",
   "language": "python",
   "name": "python3"
  },
  "language_info": {
   "codemirror_mode": {
    "name": "ipython",
    "version": 3
   },
   "file_extension": ".py",
   "mimetype": "text/x-python",
   "name": "python",
   "nbconvert_exporter": "python",
   "pygments_lexer": "ipython3",
   "version": "3.9.7"
  }
 },
 "nbformat": 4,
 "nbformat_minor": 5
}
